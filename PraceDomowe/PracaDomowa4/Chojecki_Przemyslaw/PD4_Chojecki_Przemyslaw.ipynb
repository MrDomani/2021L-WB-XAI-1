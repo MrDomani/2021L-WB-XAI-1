{
 "cells": [
  {
   "cell_type": "markdown",
   "metadata": {},
   "source": [
    "# WB - PD4\n",
    "Chojecki Przemysław"
   ]
  },
  {
   "cell_type": "markdown",
   "metadata": {},
   "source": [
    "## Wczytanie zbioru, modeli i Explainery"
   ]
  },
  {
   "cell_type": "code",
   "execution_count": 1,
   "metadata": {},
   "outputs": [],
   "source": [
    "import dalex as dx\n",
    "import pandas as pd\n",
    "import pickle\n",
    "import xgboost as xgb\n",
    "import numpy as np\n",
    "\n",
    "from sklearn.model_selection import train_test_split"
   ]
  },
  {
   "cell_type": "code",
   "execution_count": 3,
   "metadata": {},
   "outputs": [],
   "source": [
    "input_df = pd.read_csv('new_preprocessed_dataset.csv')\n",
    "y = input_df.loc[:,'Attrition']\n",
    "X = input_df.drop('Attrition', axis='columns')\n",
    "\n",
    "X_train, X_test, y_train, y_test = train_test_split(X, y, random_state=14)"
   ]
  },
  {
   "cell_type": "code",
   "execution_count": 4,
   "metadata": {},
   "outputs": [
    {
     "name": "stdout",
     "output_type": "stream",
     "text": [
      "Preparation of a new explainer is initiated\n",
      "\n",
      "  -> data              : 7595 rows 21 cols\n",
      "  -> target variable   : Parameter 'y' was a pandas.Series. Converted to a numpy.ndarray.\n",
      "  -> target variable   : 7595 values\n",
      "  -> model_class       : xgboost.sklearn.XGBClassifier (default)\n",
      "  -> label             : XGB\n",
      "  -> predict function  : <function yhat_proba_default at 0x7fa768797ca0> will be used (default)\n",
      "  -> predict function  : Accepts pandas.DataFrame and numpy.ndarray.\n",
      "  -> predicted values  : min = 1.49e-06, mean = 0.159, max = 1.0\n",
      "  -> model type        : classification will be used (default)\n",
      "  -> residual function : difference between y and yhat (default)\n",
      "  -> residuals         : min = -0.699, mean = 9.19e-05, max = 0.82\n",
      "  -> model_info        : package xgboost\n",
      "\n",
      "A new explainer has been created!\n"
     ]
    }
   ],
   "source": [
    "path_xgb = 'new_xgb_model.p'\n",
    "xgb = pickle.load(open( path_xgb, \"rb\" ))\n",
    "xgb_explainer = dx.Explainer(xgb, X_train, y_train, label='XGB')"
   ]
  },
  {
   "cell_type": "code",
   "execution_count": 6,
   "metadata": {},
   "outputs": [
    {
     "name": "stdout",
     "output_type": "stream",
     "text": [
      "Preparation of a new explainer is initiated\n",
      "\n",
      "  -> data              : 7595 rows 21 cols\n",
      "  -> target variable   : Parameter 'y' was a pandas.Series. Converted to a numpy.ndarray.\n",
      "  -> target variable   : 7595 values\n",
      "  -> model_class       : sklearn.ensemble._forest.RandomForestClassifier (default)\n",
      "  -> label             : RF\n",
      "  -> predict function  : <function yhat_proba_default at 0x7fa768797ca0> will be used (default)\n",
      "  -> predict function  : Accepts pandas.DataFrame and numpy.ndarray.\n",
      "  -> predicted values  : min = 0.0, mean = 0.159, max = 1.0\n",
      "  -> model type        : classification will be used (default)\n",
      "  -> residual function : difference between y and yhat (default)\n",
      "  -> residuals         : min = -0.37, mean = 0.000521, max = 0.44\n",
      "  -> model_info        : package sklearn\n",
      "\n",
      "A new explainer has been created!\n"
     ]
    }
   ],
   "source": [
    "path_rf = 'new_random_forest_model.p'\n",
    "rf = pickle.load(open( path_rf, \"rb\" ))\n",
    "rf_explainer = dx.Explainer(rf, X_train, y_train, label='RF')"
   ]
  },
  {
   "cell_type": "markdown",
   "metadata": {},
   "source": [
    "# 1. Wylicz permutacyjną ważność zmiennych dla wybranego modelu.\n",
    "# 2. Porównaj ważność zmiennych z punktu (1) z wynikami tej metody zastosowanej dla innych modeli.\n"
   ]
  },
  {
   "cell_type": "code",
   "execution_count": 11,
   "metadata": {
    "scrolled": false
   },
   "outputs": [
    {
     "data": {
      "application/vnd.plotly.v1+json": {
       "config": {
        "displaylogo": false,
        "modeBarButtonsToRemove": [
         "sendDataToCloud",
         "lasso2d",
         "autoScale2d",
         "select2d",
         "zoom2d",
         "pan2d",
         "zoomIn2d",
         "zoomOut2d",
         "resetScale2d",
         "toggleSpikelines",
         "hoverCompareCartesian",
         "hoverClosestCartesian"
        ],
        "plotlyServerURL": "https://plot.ly",
        "staticPlot": false,
        "toImageButtonOptions": {
         "height": null,
         "width": null
        }
       },
       "data": [
        {
         "base": 0,
         "hoverinfo": "text",
         "hoverlabel": {
          "bgcolor": "rgba(0,0,0,0.8)"
         },
         "hovertext": [
          "Model: RF loss after<br>variable: Total_Trans_Amt is permuted: 0.088<br>Drop-out loss change: +0.088",
          "Model: RF loss after<br>variable: Total_Revolving_Bal is permuted: 0.012<br>Drop-out loss change: +0.012",
          "Model: RF loss after<br>variable: Total_Ct_Chng_Q4_Q1 is permuted: 0.009<br>Drop-out loss change: +0.009",
          "Model: RF loss after<br>variable: Total_Amt_Chng_Q4_Q1 is permuted: 0.001<br>Drop-out loss change: +0.001",
          "Model: RF loss after<br>variable: Total_Relationship_Count is permuted: 0.005<br>Drop-out loss change: +0.005",
          "Model: RF loss after<br>variable: Customer_Age is permuted: 0.0<br>Drop-out loss change: +0.0",
          "Model: RF loss after<br>variable: Contacts_Count_12_mon is permuted: 0.001<br>Drop-out loss change: +0.001",
          "Model: RF loss after<br>variable: Months_Inactive_12_mon is permuted: 0.001<br>Drop-out loss change: +0.001",
          "Model: RF loss after<br>variable: Avg_Open_To_Buy is permuted: 0.0<br>Drop-out loss change: +0.0",
          "Model: RF loss after<br>variable: Avg_Utilization_Ratio is permuted: 0.0<br>Drop-out loss change: +0.0"
         ],
         "marker": {
          "color": "#8bdcbe"
         },
         "orientation": "h",
         "showlegend": false,
         "text": [
          "+0.088",
          "+0.012",
          "+0.009",
          "+0.001",
          "+0.005",
          "+0.0",
          "+0.001",
          "+0.001",
          "+0.0",
          "+0.0"
         ],
         "textposition": "outside",
         "type": "bar",
         "x": [
          0.08770791715578254,
          0.01248086441364441,
          0.00910750938759256,
          0.001234974703269698,
          0.004609702686190109,
          0.00039884397031666465,
          0.0007750341523021009,
          0.000634306073274693,
          0.00011601485539332046,
          0.00010503120044486058
         ],
         "xaxis": "x",
         "y": [
          "Total_Trans_Amt",
          "Total_Revolving_Bal",
          "Total_Ct_Chng_Q4_Q1",
          "Total_Amt_Chng_Q4_Q1",
          "Total_Relationship_Count",
          "Customer_Age",
          "Contacts_Count_12_mon",
          "Months_Inactive_12_mon",
          "Avg_Open_To_Buy",
          "Avg_Utilization_Ratio"
         ],
         "yaxis": "y"
        },
        {
         "base": 6.864784342752728e-06,
         "hoverinfo": "text",
         "hoverlabel": {
          "bgcolor": "rgba(0,0,0,0.8)"
         },
         "hovertext": [
          "Model: XGB loss after<br>variable: Total_Trans_Amt is permuted: 0.175<br>Drop-out loss change: +0.175",
          "Model: XGB loss after<br>variable: Total_Revolving_Bal is permuted: 0.008<br>Drop-out loss change: +0.008",
          "Model: XGB loss after<br>variable: Total_Ct_Chng_Q4_Q1 is permuted: 0.008<br>Drop-out loss change: +0.008",
          "Model: XGB loss after<br>variable: Total_Amt_Chng_Q4_Q1 is permuted: 0.01<br>Drop-out loss change: +0.01",
          "Model: XGB loss after<br>variable: Total_Relationship_Count is permuted: 0.005<br>Drop-out loss change: +0.005",
          "Model: XGB loss after<br>variable: Customer_Age is permuted: 0.003<br>Drop-out loss change: +0.003",
          "Model: XGB loss after<br>variable: Contacts_Count_12_mon is permuted: 0.001<br>Drop-out loss change: +0.001",
          "Model: XGB loss after<br>variable: Months_Inactive_12_mon is permuted: 0.001<br>Drop-out loss change: +0.001",
          "Model: XGB loss after<br>variable: Avg_Open_To_Buy is permuted: 0.001<br>Drop-out loss change: +0.001",
          "Model: XGB loss after<br>variable: Avg_Utilization_Ratio is permuted: 0.0<br>Drop-out loss change: +0.0"
         ],
         "marker": {
          "color": "#4378bf"
         },
         "orientation": "h",
         "showlegend": false,
         "text": [
          "+0.175",
          "+0.008",
          "+0.008",
          "+0.01",
          "+0.005",
          "+0.003",
          "+0.001",
          "+0.001",
          "+0.001",
          "+0.0"
         ],
         "textposition": "outside",
         "type": "bar",
         "x": [
          0.17453302304508106,
          0.007770935876049512,
          0.008250784301611247,
          0.010285506380817077,
          0.005383363881623693,
          0.0030246239814376687,
          0.001108662671362226,
          0.0008821247880498317,
          0.0010221663886429422,
          0.0002560564559864753
         ],
         "xaxis": "x2",
         "y": [
          "Total_Trans_Amt",
          "Total_Revolving_Bal",
          "Total_Ct_Chng_Q4_Q1",
          "Total_Amt_Chng_Q4_Q1",
          "Total_Relationship_Count",
          "Customer_Age",
          "Contacts_Count_12_mon",
          "Months_Inactive_12_mon",
          "Avg_Open_To_Buy",
          "Avg_Utilization_Ratio"
         ],
         "yaxis": "y2"
        }
       ],
       "layout": {
        "annotations": [
         {
          "font": {
           "size": 16
          },
          "showarrow": false,
          "text": "RF",
          "x": 0.5,
          "xanchor": "center",
          "xref": "paper",
          "y": 1,
          "yanchor": "bottom",
          "yref": "paper"
         },
         {
          "font": {
           "size": 16
          },
          "showarrow": false,
          "text": "XGB",
          "x": 0.5,
          "xanchor": "center",
          "xref": "paper",
          "y": 0.45,
          "yanchor": "bottom",
          "yref": "paper"
         },
         {
          "font": {
           "size": 16
          },
          "showarrow": false,
          "text": "drop-out loss",
          "x": 0.5,
          "xanchor": "center",
          "xref": "paper",
          "y": 0,
          "yanchor": "top",
          "yref": "paper",
          "yshift": -30
         }
        ],
        "font": {
         "color": "#371ea3"
        },
        "height": 687,
        "margin": {
         "b": 71,
         "r": 30,
         "t": 78
        },
        "shapes": [
         {
          "line": {
           "color": "#371ea3",
           "dash": "dot",
           "width": 1.5
          },
          "type": "line",
          "x0": 0,
          "x1": 0,
          "xref": "x",
          "y0": -1,
          "y1": 10,
          "yref": "y"
         },
         {
          "line": {
           "color": "#371ea3",
           "dash": "dot",
           "width": 1.5
          },
          "type": "line",
          "x0": 6.864784342752728e-06,
          "x1": 6.864784342752728e-06,
          "xref": "x2",
          "y0": -1,
          "y1": 10,
          "yref": "y2"
         }
        ],
        "template": {
         "data": {
          "scatter": [
           {
            "type": "scatter"
           }
          ]
         }
        },
        "title": {
         "text": "Variable Importance",
         "x": 0.15
        },
        "xaxis": {
         "anchor": "y",
         "automargin": true,
         "domain": [
          0,
          1
         ],
         "fixedrange": true,
         "gridwidth": 2,
         "matches": "x2",
         "range": [
          -0.026180983174413572,
          0.2007208710038374
         ],
         "showticklabels": false,
         "tickcolor": "white",
         "ticklen": 3,
         "ticks": "outside",
         "type": "linear",
         "zeroline": false
        },
        "xaxis2": {
         "anchor": "y2",
         "automargin": true,
         "domain": [
          0,
          1
         ],
         "fixedrange": true,
         "gridwidth": 2,
         "range": [
          -0.026180983174413572,
          0.2007208710038374
         ],
         "tickcolor": "white",
         "ticklen": 3,
         "ticks": "outside",
         "type": "linear",
         "zeroline": false
        },
        "yaxis": {
         "anchor": "x",
         "automargin": true,
         "autorange": "reversed",
         "domain": [
          0.55,
          1
         ],
         "fixedrange": true,
         "gridwidth": 2,
         "tickcolor": "white",
         "ticklen": 10,
         "ticks": "outside",
         "type": "category"
        },
        "yaxis2": {
         "anchor": "x2",
         "automargin": true,
         "autorange": "reversed",
         "domain": [
          0,
          0.45
         ],
         "fixedrange": true,
         "gridwidth": 2,
         "tickcolor": "white",
         "ticklen": 10,
         "ticks": "outside",
         "type": "category"
        }
       }
      },
      "text/html": [
       "<div>                            <div id=\"53279b60-073b-4871-bdf5-909aea09e1aa\" class=\"plotly-graph-div\" style=\"height:687.0px; width:100%;\"></div>            <script type=\"text/javascript\">                require([\"plotly\"], function(Plotly) {                    window.PLOTLYENV=window.PLOTLYENV || {};                                    if (document.getElementById(\"53279b60-073b-4871-bdf5-909aea09e1aa\")) {                    Plotly.newPlot(                        \"53279b60-073b-4871-bdf5-909aea09e1aa\",                        [{\"base\": 0.0, \"hoverinfo\": \"text\", \"hoverlabel\": {\"bgcolor\": \"rgba(0,0,0,0.8)\"}, \"hovertext\": [\"Model: RF loss after<br>variable: Total_Trans_Amt is permuted: 0.088<br>Drop-out loss change: +0.088\", \"Model: RF loss after<br>variable: Total_Revolving_Bal is permuted: 0.012<br>Drop-out loss change: +0.012\", \"Model: RF loss after<br>variable: Total_Ct_Chng_Q4_Q1 is permuted: 0.009<br>Drop-out loss change: +0.009\", \"Model: RF loss after<br>variable: Total_Amt_Chng_Q4_Q1 is permuted: 0.001<br>Drop-out loss change: +0.001\", \"Model: RF loss after<br>variable: Total_Relationship_Count is permuted: 0.005<br>Drop-out loss change: +0.005\", \"Model: RF loss after<br>variable: Customer_Age is permuted: 0.0<br>Drop-out loss change: +0.0\", \"Model: RF loss after<br>variable: Contacts_Count_12_mon is permuted: 0.001<br>Drop-out loss change: +0.001\", \"Model: RF loss after<br>variable: Months_Inactive_12_mon is permuted: 0.001<br>Drop-out loss change: +0.001\", \"Model: RF loss after<br>variable: Avg_Open_To_Buy is permuted: 0.0<br>Drop-out loss change: +0.0\", \"Model: RF loss after<br>variable: Avg_Utilization_Ratio is permuted: 0.0<br>Drop-out loss change: +0.0\"], \"marker\": {\"color\": \"#8bdcbe\"}, \"orientation\": \"h\", \"showlegend\": false, \"text\": [\"+0.088\", \"+0.012\", \"+0.009\", \"+0.001\", \"+0.005\", \"+0.0\", \"+0.001\", \"+0.001\", \"+0.0\", \"+0.0\"], \"textposition\": \"outside\", \"type\": \"bar\", \"x\": [0.08770791715578254, 0.01248086441364441, 0.00910750938759256, 0.001234974703269698, 0.004609702686190109, 0.00039884397031666465, 0.0007750341523021009, 0.000634306073274693, 0.00011601485539332046, 0.00010503120044486058], \"xaxis\": \"x\", \"y\": [\"Total_Trans_Amt\", \"Total_Revolving_Bal\", \"Total_Ct_Chng_Q4_Q1\", \"Total_Amt_Chng_Q4_Q1\", \"Total_Relationship_Count\", \"Customer_Age\", \"Contacts_Count_12_mon\", \"Months_Inactive_12_mon\", \"Avg_Open_To_Buy\", \"Avg_Utilization_Ratio\"], \"yaxis\": \"y\"}, {\"base\": 6.864784342752728e-06, \"hoverinfo\": \"text\", \"hoverlabel\": {\"bgcolor\": \"rgba(0,0,0,0.8)\"}, \"hovertext\": [\"Model: XGB loss after<br>variable: Total_Trans_Amt is permuted: 0.175<br>Drop-out loss change: +0.175\", \"Model: XGB loss after<br>variable: Total_Revolving_Bal is permuted: 0.008<br>Drop-out loss change: +0.008\", \"Model: XGB loss after<br>variable: Total_Ct_Chng_Q4_Q1 is permuted: 0.008<br>Drop-out loss change: +0.008\", \"Model: XGB loss after<br>variable: Total_Amt_Chng_Q4_Q1 is permuted: 0.01<br>Drop-out loss change: +0.01\", \"Model: XGB loss after<br>variable: Total_Relationship_Count is permuted: 0.005<br>Drop-out loss change: +0.005\", \"Model: XGB loss after<br>variable: Customer_Age is permuted: 0.003<br>Drop-out loss change: +0.003\", \"Model: XGB loss after<br>variable: Contacts_Count_12_mon is permuted: 0.001<br>Drop-out loss change: +0.001\", \"Model: XGB loss after<br>variable: Months_Inactive_12_mon is permuted: 0.001<br>Drop-out loss change: +0.001\", \"Model: XGB loss after<br>variable: Avg_Open_To_Buy is permuted: 0.001<br>Drop-out loss change: +0.001\", \"Model: XGB loss after<br>variable: Avg_Utilization_Ratio is permuted: 0.0<br>Drop-out loss change: +0.0\"], \"marker\": {\"color\": \"#4378bf\"}, \"orientation\": \"h\", \"showlegend\": false, \"text\": [\"+0.175\", \"+0.008\", \"+0.008\", \"+0.01\", \"+0.005\", \"+0.003\", \"+0.001\", \"+0.001\", \"+0.001\", \"+0.0\"], \"textposition\": \"outside\", \"type\": \"bar\", \"x\": [0.17453302304508106, 0.007770935876049512, 0.008250784301611247, 0.010285506380817077, 0.005383363881623693, 0.0030246239814376687, 0.001108662671362226, 0.0008821247880498317, 0.0010221663886429422, 0.0002560564559864753], \"xaxis\": \"x2\", \"y\": [\"Total_Trans_Amt\", \"Total_Revolving_Bal\", \"Total_Ct_Chng_Q4_Q1\", \"Total_Amt_Chng_Q4_Q1\", \"Total_Relationship_Count\", \"Customer_Age\", \"Contacts_Count_12_mon\", \"Months_Inactive_12_mon\", \"Avg_Open_To_Buy\", \"Avg_Utilization_Ratio\"], \"yaxis\": \"y2\"}],                        {\"annotations\": [{\"font\": {\"size\": 16}, \"showarrow\": false, \"text\": \"RF\", \"x\": 0.5, \"xanchor\": \"center\", \"xref\": \"paper\", \"y\": 1.0, \"yanchor\": \"bottom\", \"yref\": \"paper\"}, {\"font\": {\"size\": 16}, \"showarrow\": false, \"text\": \"XGB\", \"x\": 0.5, \"xanchor\": \"center\", \"xref\": \"paper\", \"y\": 0.45, \"yanchor\": \"bottom\", \"yref\": \"paper\"}, {\"font\": {\"size\": 16}, \"showarrow\": false, \"text\": \"drop-out loss\", \"x\": 0.5, \"xanchor\": \"center\", \"xref\": \"paper\", \"y\": 0, \"yanchor\": \"top\", \"yref\": \"paper\", \"yshift\": -30}], \"font\": {\"color\": \"#371ea3\"}, \"height\": 687.0, \"margin\": {\"b\": 71, \"r\": 30, \"t\": 78}, \"shapes\": [{\"line\": {\"color\": \"#371ea3\", \"dash\": \"dot\", \"width\": 1.5}, \"type\": \"line\", \"x0\": 0.0, \"x1\": 0.0, \"xref\": \"x\", \"y0\": -1, \"y1\": 10, \"yref\": \"y\"}, {\"line\": {\"color\": \"#371ea3\", \"dash\": \"dot\", \"width\": 1.5}, \"type\": \"line\", \"x0\": 6.864784342752728e-06, \"x1\": 6.864784342752728e-06, \"xref\": \"x2\", \"y0\": -1, \"y1\": 10, \"yref\": \"y2\"}], \"template\": {\"data\": {\"scatter\": [{\"type\": \"scatter\"}]}}, \"title\": {\"text\": \"Variable Importance\", \"x\": 0.15}, \"xaxis\": {\"anchor\": \"y\", \"automargin\": true, \"domain\": [0.0, 1.0], \"fixedrange\": true, \"gridwidth\": 2, \"matches\": \"x2\", \"range\": [-0.026180983174413572, 0.2007208710038374], \"showticklabels\": false, \"tickcolor\": \"white\", \"ticklen\": 3, \"ticks\": \"outside\", \"type\": \"linear\", \"zeroline\": false}, \"xaxis2\": {\"anchor\": \"y2\", \"automargin\": true, \"domain\": [0.0, 1.0], \"fixedrange\": true, \"gridwidth\": 2, \"range\": [-0.026180983174413572, 0.2007208710038374], \"tickcolor\": \"white\", \"ticklen\": 3, \"ticks\": \"outside\", \"type\": \"linear\", \"zeroline\": false}, \"yaxis\": {\"anchor\": \"x\", \"automargin\": true, \"autorange\": \"reversed\", \"domain\": [0.55, 1.0], \"fixedrange\": true, \"gridwidth\": 2, \"tickcolor\": \"white\", \"ticklen\": 10, \"ticks\": \"outside\", \"type\": \"category\"}, \"yaxis2\": {\"anchor\": \"x2\", \"automargin\": true, \"autorange\": \"reversed\", \"domain\": [0.0, 0.45], \"fixedrange\": true, \"gridwidth\": 2, \"tickcolor\": \"white\", \"ticklen\": 10, \"ticks\": \"outside\", \"type\": \"category\"}},                        {\"displaylogo\": false, \"staticPlot\": false, \"toImageButtonOptions\": {\"height\": null, \"width\": null}, \"modeBarButtonsToRemove\": [\"sendDataToCloud\", \"lasso2d\", \"autoScale2d\", \"select2d\", \"zoom2d\", \"pan2d\", \"zoomIn2d\", \"zoomOut2d\", \"resetScale2d\", \"toggleSpikelines\", \"hoverCompareCartesian\", \"hoverClosestCartesian\"], \"responsive\": true}                    ).then(function(){\n",
       "                            \n",
       "var gd = document.getElementById('53279b60-073b-4871-bdf5-909aea09e1aa');\n",
       "var x = new MutationObserver(function (mutations, observer) {{\n",
       "        var display = window.getComputedStyle(gd).display;\n",
       "        if (!display || display === 'none') {{\n",
       "            console.log([gd, 'removed!']);\n",
       "            Plotly.purge(gd);\n",
       "            observer.disconnect();\n",
       "        }}\n",
       "}});\n",
       "\n",
       "// Listen for the removal of the full notebook cells\n",
       "var notebookContainer = gd.closest('#notebook-container');\n",
       "if (notebookContainer) {{\n",
       "    x.observe(notebookContainer, {childList: true});\n",
       "}}\n",
       "\n",
       "// Listen for the clearing of the current output cell\n",
       "var outputEl = gd.closest('.output');\n",
       "if (outputEl) {{\n",
       "    x.observe(outputEl, {childList: true});\n",
       "}}\n",
       "\n",
       "                        })                };                });            </script>        </div>"
      ]
     },
     "metadata": {},
     "output_type": "display_data"
    }
   ],
   "source": [
    "fi_rf = rf_explainer.model_parts()\n",
    "fi_xgb = xgb_explainer.model_parts()\n",
    "fi_rf.plot([fi_xgb])"
   ]
  },
  {
   "cell_type": "markdown",
   "metadata": {},
   "source": [
    "![](VariableImportance.png)"
   ]
  },
  {
   "cell_type": "markdown",
   "metadata": {},
   "source": [
    "Niepokojącym wydaje się, że modele większość swojej decyzji podejmuje na podstawie jednej kolumny. Nie dziwi mnie to jednak, gdyż modele oparte na drzewach mają to do siebie, że 3/4 kolumny wystarczają, żeby podjąć więszość decyzji. Nie niej jadnak monopol w modelu `XGB` jest na tyle potężny, że skłania do przemyśleń o sensowności tego modelu.\n",
    "\n",
    "Należy pamiętać, że przy motodach tłumaczeń lokalnych w poprzednich pracach domowych nie dało się zauważyć tak ogromnej ważności tej konkretnej zmiennej.\n",
    "\n",
    "Pozostałe zmienne oba modele ustawiają w podobnej kolejności ważności.\n",
    "\n",
    "Wybrane przez modele zmienne decyzyjne wydają się sensowynym wyborem i zgadzają się z tłumaczeniami z poprzednich tygodni."
   ]
  }
 ],
 "metadata": {
  "kernelspec": {
   "display_name": "Python 3",
   "language": "python",
   "name": "python3"
  },
  "language_info": {
   "codemirror_mode": {
    "name": "ipython",
    "version": 3
   },
   "file_extension": ".py",
   "mimetype": "text/x-python",
   "name": "python",
   "nbconvert_exporter": "python",
   "pygments_lexer": "ipython3",
   "version": "3.8.5"
  }
 },
 "nbformat": 4,
 "nbformat_minor": 4
}
