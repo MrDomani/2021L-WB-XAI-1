{
 "cells": [
  {
   "cell_type": "markdown",
   "metadata": {},
   "source": [
    "# PD4 Jan Smoleń"
   ]
  },
  {
   "cell_type": "code",
   "execution_count": 52,
   "metadata": {},
   "outputs": [],
   "source": [
    "import pandas as pd\n",
    "import numpy as np\n",
    "from matplotlib import pyplot as plt\n",
    "import seaborn as sns\n",
    "import dalex as dx\n",
    "import pickle\n",
    "np.random.seed = 46\n",
    "import shap\n",
    "import xgboost as xgb\n",
    "from sklearn.metrics import accuracy_score\n",
    "import warnings\n",
    "warnings.filterwarnings('ignore')"
   ]
  },
  {
   "cell_type": "code",
   "execution_count": 53,
   "metadata": {},
   "outputs": [],
   "source": [
    "wines_df = pd.read_csv('winequality-red.csv')\n",
    "wines_df[\"is_good\"]=wines_df.apply(lambda row: 1 if row.quality > 5 else 0, axis = 1)\n",
    "X = wines_df.drop(columns = ['quality','is_good'])\n",
    "y = wines_df[['is_good']]\n",
    "from sklearn.model_selection import train_test_split\n",
    "X_train, X_test, y_train, y_test = train_test_split(X, y, random_state = 1613)\n"
   ]
  },
  {
   "cell_type": "markdown",
   "metadata": {},
   "source": [
    "## Przygotowanie modelu i explainera"
   ]
  },
  {
   "cell_type": "code",
   "execution_count": 54,
   "metadata": {},
   "outputs": [
    {
     "name": "stdout",
     "output_type": "stream",
     "text": [
      "[13:59:58] WARNING: C:/Users/Administrator/workspace/xgboost-win64_release_1.3.0/src/learner.cc:1061: Starting in XGBoost 1.3.0, the default evaluation metric used with the objective 'binary:logistic' was changed from 'error' to 'logloss'. Explicitly set eval_metric if you'd like to restore the old behavior.\n"
     ]
    },
    {
     "data": {
      "text/plain": [
       "XGBClassifier(base_score=0.5, booster='gbtree', colsample_bylevel=1,\n",
       "              colsample_bynode=1, colsample_bytree=0.4, gamma=0, gpu_id=-1,\n",
       "              importance_type='gain', interaction_constraints='',\n",
       "              learning_rate=0.05, max_delta_step=0, max_depth=10,\n",
       "              min_child_weight=1, missing=nan, monotone_constraints='()',\n",
       "              n_estimators=100, n_jobs=4, num_parallel_tree=1,\n",
       "              random_state=1613, reg_alpha=0, reg_lambda=1, scale_pos_weight=1,\n",
       "              seed=1613, subsample=1, tree_method='exact',\n",
       "              use_label_encoder=False, validate_parameters=1, verbosity=None)"
      ]
     },
     "execution_count": 54,
     "metadata": {},
     "output_type": "execute_result"
    }
   ],
   "source": [
    "X_train, X_test, y_train, y_test = train_test_split(X, y, test_size = 0.2, random_state = 1613)\n",
    "xgb_model = xgb.XGBClassifier(objective = \"binary:logistic\", seed = 1613, min_child_weight=1, max_depth=10, \n",
    "                              learning_rate=0.05, gamma=0, colsample_bytree=0.4, use_label_encoder=False)\n",
    "xgb_model.fit(X_train, y_train[\"is_good\"])\n"
   ]
  },
  {
   "cell_type": "code",
   "execution_count": 55,
   "metadata": {},
   "outputs": [
    {
     "name": "stdout",
     "output_type": "stream",
     "text": [
      "Preparation of a new explainer is initiated\n",
      "\n",
      "  -> data              : 1279 rows 11 cols\n",
      "  -> target variable   : Parameter 'y' was a pandas.DataFrame. Converted to a numpy.ndarray.\n",
      "  -> target variable   : 1279 values\n",
      "  -> model_class       : xgboost.sklearn.XGBClassifier (default)\n",
      "  -> label             : XGBoost\n",
      "  -> predict function  : <function yhat_proba_default at 0x00000287063D44C0> will be used (default)\n",
      "  -> predict function  : Accepts pandas.DataFrame and numpy.ndarray.\n",
      "  -> predicted values  : min = 0.0238, mean = 0.537, max = 0.988\n",
      "  -> model type        : classification will be used (default)\n",
      "  -> residual function : difference between y and yhat (default)\n",
      "  -> residuals         : min = -0.61, mean = -0.0004, max = 0.438\n",
      "  -> model_info        : package xgboost\n",
      "\n",
      "A new explainer has been created!\n"
     ]
    }
   ],
   "source": [
    "explainer = dx.Explainer(xgb_model, X_train, y_train,label=\"XGBoost\")"
   ]
  },
  {
   "cell_type": "markdown",
   "metadata": {},
   "source": [
    "## 1"
   ]
  },
  {
   "cell_type": "markdown",
   "metadata": {},
   "source": [
    "## XGBoost"
   ]
  },
  {
   "cell_type": "code",
   "execution_count": 56,
   "metadata": {},
   "outputs": [
    {
     "name": "stdout",
     "output_type": "stream",
     "text": [
      "Accuracy XGBoost = 0.815625\n"
     ]
    }
   ],
   "source": [
    "tmp=accuracy_score(y_test['is_good'], xgb_model.predict(X_test))\n",
    "print(\"Accuracy XGBoost = \" + str(tmp))"
   ]
  },
  {
   "cell_type": "code",
   "execution_count": 57,
   "metadata": {},
   "outputs": [
    {
     "data": {
      "application/vnd.plotly.v1+json": {
       "config": {
        "displaylogo": false,
        "modeBarButtonsToRemove": [
         "sendDataToCloud",
         "lasso2d",
         "autoScale2d",
         "select2d",
         "zoom2d",
         "pan2d",
         "zoomIn2d",
         "zoomOut2d",
         "resetScale2d",
         "toggleSpikelines",
         "hoverCompareCartesian",
         "hoverClosestCartesian"
        ],
        "plotlyServerURL": "https://plot.ly",
        "staticPlot": false,
        "toImageButtonOptions": {
         "height": null,
         "width": null
        }
       },
       "data": [
        {
         "base": 2.0082256924291997e-05,
         "hoverinfo": "text",
         "hoverlabel": {
          "bgcolor": "rgba(0,0,0,0.8)"
         },
         "hovertext": [
          "Model: XGBoost loss after<br>variable: alcohol is permuted: 0.033<br>Drop-out loss change: +0.033",
          "Model: XGBoost loss after<br>variable: sulphates is permuted: 0.031<br>Drop-out loss change: +0.031",
          "Model: XGBoost loss after<br>variable: volatile acidity is permuted: 0.005<br>Drop-out loss change: +0.005",
          "Model: XGBoost loss after<br>variable: total sulfur dioxide is permuted: 0.002<br>Drop-out loss change: +0.002",
          "Model: XGBoost loss after<br>variable: chlorides is permuted: 0.002<br>Drop-out loss change: +0.002",
          "Model: XGBoost loss after<br>variable: density is permuted: 0.001<br>Drop-out loss change: +0.001",
          "Model: XGBoost loss after<br>variable: residual sugar is permuted: 0.001<br>Drop-out loss change: +0.001",
          "Model: XGBoost loss after<br>variable: citric acid is permuted: 0.001<br>Drop-out loss change: +0.001",
          "Model: XGBoost loss after<br>variable: pH is permuted: 0.001<br>Drop-out loss change: +0.001",
          "Model: XGBoost loss after<br>variable: fixed acidity is permuted: 0.001<br>Drop-out loss change: +0.001"
         ],
         "marker": {
          "color": "#46bac2"
         },
         "orientation": "h",
         "showlegend": false,
         "text": [
          "+0.033",
          "+0.031",
          "+0.005",
          "+0.002",
          "+0.002",
          "+0.001",
          "+0.001",
          "+0.001",
          "+0.001",
          "+0.001"
         ],
         "textposition": "outside",
         "type": "bar",
         "x": [
          0.03303571428571432,
          0.03074874686716802,
          0.004580762804447058,
          0.0021106452027504496,
          0.00199497140286613,
          0.0013173960542381623,
          0.001088056680161964,
          0.000941054559475607,
          0.0009153492706123978,
          0.0006590996722575348
         ],
         "xaxis": "x",
         "y": [
          "alcohol",
          "sulphates",
          "volatile acidity",
          "total sulfur dioxide",
          "chlorides",
          "density",
          "residual sugar",
          "citric acid",
          "pH",
          "fixed acidity"
         ],
         "yaxis": "y"
        }
       ],
       "layout": {
        "annotations": [
         {
          "font": {
           "size": 16
          },
          "showarrow": false,
          "text": "XGBoost",
          "x": 0.5,
          "xanchor": "center",
          "xref": "paper",
          "y": 1,
          "yanchor": "bottom",
          "yref": "paper"
         },
         {
          "font": {
           "size": 16
          },
          "showarrow": false,
          "text": "drop-out loss",
          "x": 0.5,
          "xanchor": "center",
          "xref": "paper",
          "y": 0,
          "yanchor": "top",
          "yref": "paper",
          "yshift": -30
         }
        ],
        "font": {
         "color": "#371ea3"
        },
        "height": 383,
        "margin": {
         "b": 71,
         "r": 30,
         "t": 78
        },
        "shapes": [
         {
          "line": {
           "color": "#371ea3",
           "dash": "dot",
           "width": 1.5
          },
          "type": "line",
          "x0": 2.0082256924291997e-05,
          "x1": 2.0082256924291997e-05,
          "xref": "x",
          "y0": -1,
          "y1": 10,
          "yref": "y"
         }
        ],
        "template": {
         "data": {
          "scatter": [
           {
            "type": "scatter"
           }
          ]
         }
        },
        "title": {
         "text": "Variable Importance",
         "x": 0.15
        },
        "xaxis": {
         "anchor": "y",
         "automargin": true,
         "domain": [
          0,
          1
         ],
         "fixedrange": true,
         "gridwidth": 2,
         "range": [
          -0.004935274885932856,
          0.03801115368549576
         ],
         "tickcolor": "white",
         "ticklen": 3,
         "ticks": "outside",
         "type": "linear",
         "zeroline": false
        },
        "yaxis": {
         "anchor": "x",
         "automargin": true,
         "autorange": "reversed",
         "domain": [
          0,
          1
         ],
         "fixedrange": true,
         "gridwidth": 2,
         "tickcolor": "white",
         "ticklen": 10,
         "ticks": "outside",
         "type": "category"
        }
       }
      },
      "text/html": [
       "<div>                            <div id=\"f41abdf6-21b1-484b-ae2d-e2e938e874d0\" class=\"plotly-graph-div\" style=\"height:383.0px; width:100%;\"></div>            <script type=\"text/javascript\">                require([\"plotly\"], function(Plotly) {                    window.PLOTLYENV=window.PLOTLYENV || {};                                    if (document.getElementById(\"f41abdf6-21b1-484b-ae2d-e2e938e874d0\")) {                    Plotly.newPlot(                        \"f41abdf6-21b1-484b-ae2d-e2e938e874d0\",                        [{\"base\": 2.0082256924291997e-05, \"hoverinfo\": \"text\", \"hoverlabel\": {\"bgcolor\": \"rgba(0,0,0,0.8)\"}, \"hovertext\": [\"Model: XGBoost loss after<br>variable: alcohol is permuted: 0.033<br>Drop-out loss change: +0.033\", \"Model: XGBoost loss after<br>variable: sulphates is permuted: 0.031<br>Drop-out loss change: +0.031\", \"Model: XGBoost loss after<br>variable: volatile acidity is permuted: 0.005<br>Drop-out loss change: +0.005\", \"Model: XGBoost loss after<br>variable: total sulfur dioxide is permuted: 0.002<br>Drop-out loss change: +0.002\", \"Model: XGBoost loss after<br>variable: chlorides is permuted: 0.002<br>Drop-out loss change: +0.002\", \"Model: XGBoost loss after<br>variable: density is permuted: 0.001<br>Drop-out loss change: +0.001\", \"Model: XGBoost loss after<br>variable: residual sugar is permuted: 0.001<br>Drop-out loss change: +0.001\", \"Model: XGBoost loss after<br>variable: citric acid is permuted: 0.001<br>Drop-out loss change: +0.001\", \"Model: XGBoost loss after<br>variable: pH is permuted: 0.001<br>Drop-out loss change: +0.001\", \"Model: XGBoost loss after<br>variable: fixed acidity is permuted: 0.001<br>Drop-out loss change: +0.001\"], \"marker\": {\"color\": \"#46bac2\"}, \"orientation\": \"h\", \"showlegend\": false, \"text\": [\"+0.033\", \"+0.031\", \"+0.005\", \"+0.002\", \"+0.002\", \"+0.001\", \"+0.001\", \"+0.001\", \"+0.001\", \"+0.001\"], \"textposition\": \"outside\", \"type\": \"bar\", \"x\": [0.03303571428571432, 0.03074874686716802, 0.004580762804447058, 0.0021106452027504496, 0.00199497140286613, 0.0013173960542381623, 0.001088056680161964, 0.000941054559475607, 0.0009153492706123978, 0.0006590996722575348], \"xaxis\": \"x\", \"y\": [\"alcohol\", \"sulphates\", \"volatile acidity\", \"total sulfur dioxide\", \"chlorides\", \"density\", \"residual sugar\", \"citric acid\", \"pH\", \"fixed acidity\"], \"yaxis\": \"y\"}],                        {\"annotations\": [{\"font\": {\"size\": 16}, \"showarrow\": false, \"text\": \"XGBoost\", \"x\": 0.5, \"xanchor\": \"center\", \"xref\": \"paper\", \"y\": 1.0, \"yanchor\": \"bottom\", \"yref\": \"paper\"}, {\"font\": {\"size\": 16}, \"showarrow\": false, \"text\": \"drop-out loss\", \"x\": 0.5, \"xanchor\": \"center\", \"xref\": \"paper\", \"y\": 0, \"yanchor\": \"top\", \"yref\": \"paper\", \"yshift\": -30}], \"font\": {\"color\": \"#371ea3\"}, \"height\": 383.0, \"margin\": {\"b\": 71, \"r\": 30, \"t\": 78}, \"shapes\": [{\"line\": {\"color\": \"#371ea3\", \"dash\": \"dot\", \"width\": 1.5}, \"type\": \"line\", \"x0\": 2.0082256924291997e-05, \"x1\": 2.0082256924291997e-05, \"xref\": \"x\", \"y0\": -1, \"y1\": 10, \"yref\": \"y\"}], \"template\": {\"data\": {\"scatter\": [{\"type\": \"scatter\"}]}}, \"title\": {\"text\": \"Variable Importance\", \"x\": 0.15}, \"xaxis\": {\"anchor\": \"y\", \"automargin\": true, \"domain\": [0.0, 1.0], \"fixedrange\": true, \"gridwidth\": 2, \"range\": [-0.004935274885932856, 0.03801115368549576], \"tickcolor\": \"white\", \"ticklen\": 3, \"ticks\": \"outside\", \"type\": \"linear\", \"zeroline\": false}, \"yaxis\": {\"anchor\": \"x\", \"automargin\": true, \"autorange\": \"reversed\", \"domain\": [0.0, 1.0], \"fixedrange\": true, \"gridwidth\": 2, \"tickcolor\": \"white\", \"ticklen\": 10, \"ticks\": \"outside\", \"type\": \"category\"}},                        {\"displaylogo\": false, \"staticPlot\": false, \"toImageButtonOptions\": {\"height\": null, \"width\": null}, \"modeBarButtonsToRemove\": [\"sendDataToCloud\", \"lasso2d\", \"autoScale2d\", \"select2d\", \"zoom2d\", \"pan2d\", \"zoomIn2d\", \"zoomOut2d\", \"resetScale2d\", \"toggleSpikelines\", \"hoverCompareCartesian\", \"hoverClosestCartesian\"], \"responsive\": true}                    ).then(function(){\n",
       "                            \n",
       "var gd = document.getElementById('f41abdf6-21b1-484b-ae2d-e2e938e874d0');\n",
       "var x = new MutationObserver(function (mutations, observer) {{\n",
       "        var display = window.getComputedStyle(gd).display;\n",
       "        if (!display || display === 'none') {{\n",
       "            console.log([gd, 'removed!']);\n",
       "            Plotly.purge(gd);\n",
       "            observer.disconnect();\n",
       "        }}\n",
       "}});\n",
       "\n",
       "// Listen for the removal of the full notebook cells\n",
       "var notebookContainer = gd.closest('#notebook-container');\n",
       "if (notebookContainer) {{\n",
       "    x.observe(notebookContainer, {childList: true});\n",
       "}}\n",
       "\n",
       "// Listen for the clearing of the current output cell\n",
       "var outputEl = gd.closest('.output');\n",
       "if (outputEl) {{\n",
       "    x.observe(outputEl, {childList: true});\n",
       "}}\n",
       "\n",
       "                        })                };                });            </script>        </div>"
      ]
     },
     "metadata": {},
     "output_type": "display_data"
    }
   ],
   "source": [
    "explainer.model_parts().plot()"
   ]
  },
  {
   "cell_type": "markdown",
   "metadata": {},
   "source": [
    "Jak widać, prawie wszystkie zmienne mają wkład w predykcję naszego modelu. Jedyna, która się wyłamuje to zmienna `free sulfur dioxide` - chociaż jest pomijana przy tworzeniu wykresu dla wszystkich danych, to jak próbowałem spojrzeć tylko na nią, to jej ważność wynosiła praktycznie 0. "
   ]
  },
  {
   "cell_type": "code",
   "execution_count": 58,
   "metadata": {},
   "outputs": [
    {
     "data": {
      "application/vnd.plotly.v1+json": {
       "config": {
        "displaylogo": false,
        "modeBarButtonsToRemove": [
         "sendDataToCloud",
         "lasso2d",
         "autoScale2d",
         "select2d",
         "zoom2d",
         "pan2d",
         "zoomIn2d",
         "zoomOut2d",
         "resetScale2d",
         "toggleSpikelines",
         "hoverCompareCartesian",
         "hoverClosestCartesian"
        ],
        "plotlyServerURL": "https://plot.ly",
        "staticPlot": false,
        "toImageButtonOptions": {
         "height": null,
         "width": null
        }
       },
       "data": [
        {
         "base": 2.0082256924291997e-05,
         "hoverinfo": "text",
         "hoverlabel": {
          "bgcolor": "rgba(0,0,0,0.8)"
         },
         "hovertext": [
          "Model: XGBoost loss after<br>variable: free sulfur dioxide is permuted: 0.0<br>Drop-out loss change: +0.0"
         ],
         "marker": {
          "color": "#46bac2"
         },
         "orientation": "h",
         "showlegend": false,
         "text": [
          "+0.0"
         ],
         "textposition": "outside",
         "type": "bar",
         "x": [
          0.00034902962534536506
         ],
         "xaxis": "x",
         "y": [
          "free sulfur dioxide"
         ],
         "yaxis": "y"
        }
       ],
       "layout": {
        "annotations": [
         {
          "font": {
           "size": 16
          },
          "showarrow": false,
          "text": "XGBoost",
          "x": 0.5,
          "xanchor": "center",
          "xref": "paper",
          "y": 1,
          "yanchor": "bottom",
          "yref": "paper"
         },
         {
          "font": {
           "size": 16
          },
          "showarrow": false,
          "text": "drop-out loss",
          "x": 0.5,
          "xanchor": "center",
          "xref": "paper",
          "y": 0,
          "yanchor": "top",
          "yref": "paper",
          "yshift": -30
         }
        ],
        "font": {
         "color": "#371ea3"
        },
        "height": 203,
        "margin": {
         "b": 71,
         "r": 30,
         "t": 78
        },
        "shapes": [
         {
          "line": {
           "color": "#371ea3",
           "dash": "dot",
           "width": 1.5
          },
          "type": "line",
          "x0": 2.0082256924291997e-05,
          "x1": 2.0082256924291997e-05,
          "xref": "x",
          "y0": -1,
          "y1": 1,
          "yref": "y"
         }
        ],
        "template": {
         "data": {
          "scatter": [
           {
            "type": "scatter"
           }
          ]
         }
        },
        "title": {
         "text": "Variable Importance",
         "x": 0.15
        },
        "xaxis": {
         "anchor": "y",
         "automargin": true,
         "domain": [
          0,
          1
         ],
         "fixedrange": true,
         "gridwidth": 2,
         "range": [
          -3.227218687751276e-05,
          0.00042146632607146183
         ],
         "tickcolor": "white",
         "ticklen": 3,
         "ticks": "outside",
         "type": "linear",
         "zeroline": false
        },
        "yaxis": {
         "anchor": "x",
         "automargin": true,
         "autorange": "reversed",
         "domain": [
          0,
          1
         ],
         "fixedrange": true,
         "gridwidth": 2,
         "tickcolor": "white",
         "ticklen": 10,
         "ticks": "outside",
         "type": "category"
        }
       }
      },
      "text/html": [
       "<div>                            <div id=\"a9155137-a706-4d89-8c32-9a6e6a45c314\" class=\"plotly-graph-div\" style=\"height:203.0px; width:100%;\"></div>            <script type=\"text/javascript\">                require([\"plotly\"], function(Plotly) {                    window.PLOTLYENV=window.PLOTLYENV || {};                                    if (document.getElementById(\"a9155137-a706-4d89-8c32-9a6e6a45c314\")) {                    Plotly.newPlot(                        \"a9155137-a706-4d89-8c32-9a6e6a45c314\",                        [{\"base\": 2.0082256924291997e-05, \"hoverinfo\": \"text\", \"hoverlabel\": {\"bgcolor\": \"rgba(0,0,0,0.8)\"}, \"hovertext\": [\"Model: XGBoost loss after<br>variable: free sulfur dioxide is permuted: 0.0<br>Drop-out loss change: +0.0\"], \"marker\": {\"color\": \"#46bac2\"}, \"orientation\": \"h\", \"showlegend\": false, \"text\": [\"+0.0\"], \"textposition\": \"outside\", \"type\": \"bar\", \"x\": [0.00034902962534536506], \"xaxis\": \"x\", \"y\": [\"free sulfur dioxide\"], \"yaxis\": \"y\"}],                        {\"annotations\": [{\"font\": {\"size\": 16}, \"showarrow\": false, \"text\": \"XGBoost\", \"x\": 0.5, \"xanchor\": \"center\", \"xref\": \"paper\", \"y\": 1.0, \"yanchor\": \"bottom\", \"yref\": \"paper\"}, {\"font\": {\"size\": 16}, \"showarrow\": false, \"text\": \"drop-out loss\", \"x\": 0.5, \"xanchor\": \"center\", \"xref\": \"paper\", \"y\": 0, \"yanchor\": \"top\", \"yref\": \"paper\", \"yshift\": -30}], \"font\": {\"color\": \"#371ea3\"}, \"height\": 203.0, \"margin\": {\"b\": 71, \"r\": 30, \"t\": 78}, \"shapes\": [{\"line\": {\"color\": \"#371ea3\", \"dash\": \"dot\", \"width\": 1.5}, \"type\": \"line\", \"x0\": 2.0082256924291997e-05, \"x1\": 2.0082256924291997e-05, \"xref\": \"x\", \"y0\": -1, \"y1\": 1, \"yref\": \"y\"}], \"template\": {\"data\": {\"scatter\": [{\"type\": \"scatter\"}]}}, \"title\": {\"text\": \"Variable Importance\", \"x\": 0.15}, \"xaxis\": {\"anchor\": \"y\", \"automargin\": true, \"domain\": [0.0, 1.0], \"fixedrange\": true, \"gridwidth\": 2, \"range\": [-3.227218687751276e-05, 0.00042146632607146183], \"tickcolor\": \"white\", \"ticklen\": 3, \"ticks\": \"outside\", \"type\": \"linear\", \"zeroline\": false}, \"yaxis\": {\"anchor\": \"x\", \"automargin\": true, \"autorange\": \"reversed\", \"domain\": [0.0, 1.0], \"fixedrange\": true, \"gridwidth\": 2, \"tickcolor\": \"white\", \"ticklen\": 10, \"ticks\": \"outside\", \"type\": \"category\"}},                        {\"displaylogo\": false, \"staticPlot\": false, \"toImageButtonOptions\": {\"height\": null, \"width\": null}, \"modeBarButtonsToRemove\": [\"sendDataToCloud\", \"lasso2d\", \"autoScale2d\", \"select2d\", \"zoom2d\", \"pan2d\", \"zoomIn2d\", \"zoomOut2d\", \"resetScale2d\", \"toggleSpikelines\", \"hoverCompareCartesian\", \"hoverClosestCartesian\"], \"responsive\": true}                    ).then(function(){\n",
       "                            \n",
       "var gd = document.getElementById('a9155137-a706-4d89-8c32-9a6e6a45c314');\n",
       "var x = new MutationObserver(function (mutations, observer) {{\n",
       "        var display = window.getComputedStyle(gd).display;\n",
       "        if (!display || display === 'none') {{\n",
       "            console.log([gd, 'removed!']);\n",
       "            Plotly.purge(gd);\n",
       "            observer.disconnect();\n",
       "        }}\n",
       "}});\n",
       "\n",
       "// Listen for the removal of the full notebook cells\n",
       "var notebookContainer = gd.closest('#notebook-container');\n",
       "if (notebookContainer) {{\n",
       "    x.observe(notebookContainer, {childList: true});\n",
       "}}\n",
       "\n",
       "// Listen for the clearing of the current output cell\n",
       "var outputEl = gd.closest('.output');\n",
       "if (outputEl) {{\n",
       "    x.observe(outputEl, {childList: true});\n",
       "}}\n",
       "\n",
       "                        })                };                });            </script>        </div>"
      ]
     },
     "metadata": {},
     "output_type": "display_data"
    }
   ],
   "source": [
    "explainer.model_parts(variables=[\"free sulfur dioxide\"]).plot()"
   ]
  },
  {
   "cell_type": "markdown",
   "metadata": {},
   "source": [
    "## 2"
   ]
  },
  {
   "cell_type": "markdown",
   "metadata": {},
   "source": [
    "### SVM"
   ]
  },
  {
   "cell_type": "code",
   "execution_count": 59,
   "metadata": {},
   "outputs": [],
   "source": [
    "from sklearn.svm import SVC\n",
    "svm_model=SVC(C= 2000, gamma= 0.0006, kernel= 'rbf', random_state=42)"
   ]
  },
  {
   "cell_type": "code",
   "execution_count": 60,
   "metadata": {},
   "outputs": [
    {
     "name": "stdout",
     "output_type": "stream",
     "text": [
      "Preparation of a new explainer is initiated\n",
      "\n",
      "  -> data              : 1279 rows 11 cols\n",
      "  -> target variable   : Parameter 'y' was a pandas.DataFrame. Converted to a numpy.ndarray.\n",
      "  -> target variable   : 1279 values\n",
      "  -> model_class       : sklearn.svm._classes.SVC (default)\n",
      "  -> label             : SVM\n",
      "  -> predict function  : <function yhat_default at 0x00000287063D4430> will be used (default)\n",
      "  -> predict function  : Accepts pandas.DataFrame and numpy.ndarray.\n",
      "  -> predicted values  : min = 0.0, mean = 0.517, max = 1.0\n",
      "  -> model type        : classification will be used (default)\n",
      "  -> residual function : difference between y and yhat (default)\n",
      "  -> residuals         : min = -1.0, mean = 0.0195, max = 1.0\n",
      "  -> model_info        : package sklearn\n",
      "\n",
      "A new explainer has been created!\n"
     ]
    }
   ],
   "source": [
    "svm_model.fit(X_train, y_train)\n",
    "explainer_svm = dx.Explainer(svm_model, X_train, y_train,label=\"SVM\")"
   ]
  },
  {
   "cell_type": "code",
   "execution_count": 61,
   "metadata": {},
   "outputs": [
    {
     "name": "stdout",
     "output_type": "stream",
     "text": [
      "Accuracy SVM = 0.759375\n"
     ]
    }
   ],
   "source": [
    "tmp=accuracy_score(y_test['is_good'], svm_model.predict(X_test))\n",
    "print(\"Accuracy SVM = \" + str(tmp))"
   ]
  },
  {
   "cell_type": "code",
   "execution_count": 62,
   "metadata": {
    "scrolled": true
   },
   "outputs": [
    {
     "data": {
      "application/vnd.plotly.v1+json": {
       "config": {
        "displaylogo": false,
        "modeBarButtonsToRemove": [
         "sendDataToCloud",
         "lasso2d",
         "autoScale2d",
         "select2d",
         "zoom2d",
         "pan2d",
         "zoomIn2d",
         "zoomOut2d",
         "resetScale2d",
         "toggleSpikelines",
         "hoverCompareCartesian",
         "hoverClosestCartesian"
        ],
        "plotlyServerURL": "https://plot.ly",
        "staticPlot": false,
        "toImageButtonOptions": {
         "height": null,
         "width": null
        }
       },
       "data": [
        {
         "base": 0.21199553370606,
         "hoverinfo": "text",
         "hoverlabel": {
          "bgcolor": "rgba(0,0,0,0.8)"
         },
         "hovertext": [
          "Model: SVM loss after<br>variable: alcohol is permuted: 0.353<br>Drop-out loss change: +0.141",
          "Model: SVM loss after<br>variable: total sulfur dioxide is permuted: 0.33<br>Drop-out loss change: +0.118",
          "Model: SVM loss after<br>variable: free sulfur dioxide is permuted: 0.28<br>Drop-out loss change: +0.068",
          "Model: SVM loss after<br>variable: volatile acidity is permuted: 0.264<br>Drop-out loss change: +0.052",
          "Model: SVM loss after<br>variable: sulphates is permuted: 0.253<br>Drop-out loss change: +0.041",
          "Model: SVM loss after<br>variable: fixed acidity is permuted: 0.239<br>Drop-out loss change: +0.027",
          "Model: SVM loss after<br>variable: citric acid is permuted: 0.227<br>Drop-out loss change: +0.015",
          "Model: SVM loss after<br>variable: residual sugar is permuted: 0.223<br>Drop-out loss change: +0.011",
          "Model: SVM loss after<br>variable: pH is permuted: 0.219<br>Drop-out loss change: +0.007",
          "Model: SVM loss after<br>variable: chlorides is permuted: 0.214<br>Drop-out loss change: +0.002"
         ],
         "marker": {
          "color": "#46bac2"
         },
         "orientation": "h",
         "showlegend": false,
         "text": [
          "+0.141",
          "+0.118",
          "+0.068",
          "+0.052",
          "+0.041",
          "+0.027",
          "+0.015",
          "+0.011",
          "+0.007",
          "+0.002"
         ],
         "textposition": "outside",
         "type": "bar",
         "x": [
          0.14121401259559152,
          0.11781296189190932,
          0.06812544180965235,
          0.05193914272861644,
          0.04123248827196202,
          0.027141170233275502,
          0.01480463980463978,
          0.011126775271512152,
          0.006602242786453327,
          0.0020013977250819825
         ],
         "xaxis": "x",
         "y": [
          "alcohol",
          "total sulfur dioxide",
          "free sulfur dioxide",
          "volatile acidity",
          "sulphates",
          "fixed acidity",
          "citric acid",
          "residual sugar",
          "pH",
          "chlorides"
         ],
         "yaxis": "y"
        }
       ],
       "layout": {
        "annotations": [
         {
          "font": {
           "size": 16
          },
          "showarrow": false,
          "text": "SVM",
          "x": 0.5,
          "xanchor": "center",
          "xref": "paper",
          "y": 1,
          "yanchor": "bottom",
          "yref": "paper"
         },
         {
          "font": {
           "size": 16
          },
          "showarrow": false,
          "text": "drop-out loss",
          "x": 0.5,
          "xanchor": "center",
          "xref": "paper",
          "y": 0,
          "yanchor": "top",
          "yref": "paper",
          "yshift": -30
         }
        ],
        "font": {
         "color": "#371ea3"
        },
        "height": 383,
        "margin": {
         "b": 71,
         "r": 30,
         "t": 78
        },
        "shapes": [
         {
          "line": {
           "color": "#371ea3",
           "dash": "dot",
           "width": 1.5
          },
          "type": "line",
          "x0": 0.21199553370606,
          "x1": 0.21199553370606,
          "xref": "x",
          "y0": -1,
          "y1": 10,
          "yref": "y"
         }
        ],
        "template": {
         "data": {
          "scatter": [
           {
            "type": "scatter"
           }
          ]
         }
        },
        "title": {
         "text": "Variable Importance",
         "x": 0.15
        },
        "xaxis": {
         "anchor": "y",
         "automargin": true,
         "domain": [
          0,
          1
         ],
         "fixedrange": true,
         "gridwidth": 2,
         "range": [
          0.19081343181672128,
          0.37439164819099024
         ],
         "tickcolor": "white",
         "ticklen": 3,
         "ticks": "outside",
         "type": "linear",
         "zeroline": false
        },
        "yaxis": {
         "anchor": "x",
         "automargin": true,
         "autorange": "reversed",
         "domain": [
          0,
          1
         ],
         "fixedrange": true,
         "gridwidth": 2,
         "tickcolor": "white",
         "ticklen": 10,
         "ticks": "outside",
         "type": "category"
        }
       }
      },
      "text/html": [
       "<div>                            <div id=\"50a82213-801f-4831-9426-ce95db31a13a\" class=\"plotly-graph-div\" style=\"height:383.0px; width:100%;\"></div>            <script type=\"text/javascript\">                require([\"plotly\"], function(Plotly) {                    window.PLOTLYENV=window.PLOTLYENV || {};                                    if (document.getElementById(\"50a82213-801f-4831-9426-ce95db31a13a\")) {                    Plotly.newPlot(                        \"50a82213-801f-4831-9426-ce95db31a13a\",                        [{\"base\": 0.21199553370606, \"hoverinfo\": \"text\", \"hoverlabel\": {\"bgcolor\": \"rgba(0,0,0,0.8)\"}, \"hovertext\": [\"Model: SVM loss after<br>variable: alcohol is permuted: 0.353<br>Drop-out loss change: +0.141\", \"Model: SVM loss after<br>variable: total sulfur dioxide is permuted: 0.33<br>Drop-out loss change: +0.118\", \"Model: SVM loss after<br>variable: free sulfur dioxide is permuted: 0.28<br>Drop-out loss change: +0.068\", \"Model: SVM loss after<br>variable: volatile acidity is permuted: 0.264<br>Drop-out loss change: +0.052\", \"Model: SVM loss after<br>variable: sulphates is permuted: 0.253<br>Drop-out loss change: +0.041\", \"Model: SVM loss after<br>variable: fixed acidity is permuted: 0.239<br>Drop-out loss change: +0.027\", \"Model: SVM loss after<br>variable: citric acid is permuted: 0.227<br>Drop-out loss change: +0.015\", \"Model: SVM loss after<br>variable: residual sugar is permuted: 0.223<br>Drop-out loss change: +0.011\", \"Model: SVM loss after<br>variable: pH is permuted: 0.219<br>Drop-out loss change: +0.007\", \"Model: SVM loss after<br>variable: chlorides is permuted: 0.214<br>Drop-out loss change: +0.002\"], \"marker\": {\"color\": \"#46bac2\"}, \"orientation\": \"h\", \"showlegend\": false, \"text\": [\"+0.141\", \"+0.118\", \"+0.068\", \"+0.052\", \"+0.041\", \"+0.027\", \"+0.015\", \"+0.011\", \"+0.007\", \"+0.002\"], \"textposition\": \"outside\", \"type\": \"bar\", \"x\": [0.14121401259559152, 0.11781296189190932, 0.06812544180965235, 0.05193914272861644, 0.04123248827196202, 0.027141170233275502, 0.01480463980463978, 0.011126775271512152, 0.006602242786453327, 0.0020013977250819825], \"xaxis\": \"x\", \"y\": [\"alcohol\", \"total sulfur dioxide\", \"free sulfur dioxide\", \"volatile acidity\", \"sulphates\", \"fixed acidity\", \"citric acid\", \"residual sugar\", \"pH\", \"chlorides\"], \"yaxis\": \"y\"}],                        {\"annotations\": [{\"font\": {\"size\": 16}, \"showarrow\": false, \"text\": \"SVM\", \"x\": 0.5, \"xanchor\": \"center\", \"xref\": \"paper\", \"y\": 1.0, \"yanchor\": \"bottom\", \"yref\": \"paper\"}, {\"font\": {\"size\": 16}, \"showarrow\": false, \"text\": \"drop-out loss\", \"x\": 0.5, \"xanchor\": \"center\", \"xref\": \"paper\", \"y\": 0, \"yanchor\": \"top\", \"yref\": \"paper\", \"yshift\": -30}], \"font\": {\"color\": \"#371ea3\"}, \"height\": 383.0, \"margin\": {\"b\": 71, \"r\": 30, \"t\": 78}, \"shapes\": [{\"line\": {\"color\": \"#371ea3\", \"dash\": \"dot\", \"width\": 1.5}, \"type\": \"line\", \"x0\": 0.21199553370606, \"x1\": 0.21199553370606, \"xref\": \"x\", \"y0\": -1, \"y1\": 10, \"yref\": \"y\"}], \"template\": {\"data\": {\"scatter\": [{\"type\": \"scatter\"}]}}, \"title\": {\"text\": \"Variable Importance\", \"x\": 0.15}, \"xaxis\": {\"anchor\": \"y\", \"automargin\": true, \"domain\": [0.0, 1.0], \"fixedrange\": true, \"gridwidth\": 2, \"range\": [0.19081343181672128, 0.37439164819099024], \"tickcolor\": \"white\", \"ticklen\": 3, \"ticks\": \"outside\", \"type\": \"linear\", \"zeroline\": false}, \"yaxis\": {\"anchor\": \"x\", \"automargin\": true, \"autorange\": \"reversed\", \"domain\": [0.0, 1.0], \"fixedrange\": true, \"gridwidth\": 2, \"tickcolor\": \"white\", \"ticklen\": 10, \"ticks\": \"outside\", \"type\": \"category\"}},                        {\"displaylogo\": false, \"staticPlot\": false, \"toImageButtonOptions\": {\"height\": null, \"width\": null}, \"modeBarButtonsToRemove\": [\"sendDataToCloud\", \"lasso2d\", \"autoScale2d\", \"select2d\", \"zoom2d\", \"pan2d\", \"zoomIn2d\", \"zoomOut2d\", \"resetScale2d\", \"toggleSpikelines\", \"hoverCompareCartesian\", \"hoverClosestCartesian\"], \"responsive\": true}                    ).then(function(){\n",
       "                            \n",
       "var gd = document.getElementById('50a82213-801f-4831-9426-ce95db31a13a');\n",
       "var x = new MutationObserver(function (mutations, observer) {{\n",
       "        var display = window.getComputedStyle(gd).display;\n",
       "        if (!display || display === 'none') {{\n",
       "            console.log([gd, 'removed!']);\n",
       "            Plotly.purge(gd);\n",
       "            observer.disconnect();\n",
       "        }}\n",
       "}});\n",
       "\n",
       "// Listen for the removal of the full notebook cells\n",
       "var notebookContainer = gd.closest('#notebook-container');\n",
       "if (notebookContainer) {{\n",
       "    x.observe(notebookContainer, {childList: true});\n",
       "}}\n",
       "\n",
       "// Listen for the clearing of the current output cell\n",
       "var outputEl = gd.closest('.output');\n",
       "if (outputEl) {{\n",
       "    x.observe(outputEl, {childList: true});\n",
       "}}\n",
       "\n",
       "                        })                };                });            </script>        </div>"
      ]
     },
     "metadata": {},
     "output_type": "display_data"
    }
   ],
   "source": [
    "explainer_svm.model_parts().plot()"
   ]
  },
  {
   "cell_type": "markdown",
   "metadata": {},
   "source": [
    "## Random Forest"
   ]
  },
  {
   "cell_type": "code",
   "execution_count": 63,
   "metadata": {},
   "outputs": [
    {
     "data": {
      "text/plain": [
       "RandomForestClassifier(max_depth=75, min_samples_leaf=2, n_estimators=1050,\n",
       "                       random_state=1613)"
      ]
     },
     "execution_count": 63,
     "metadata": {},
     "output_type": "execute_result"
    }
   ],
   "source": [
    "from sklearn.ensemble import RandomForestClassifier\n",
    "rfc_model = RandomForestClassifier(random_state=1613, bootstrap= True,\n",
    " max_depth = 75,\n",
    " max_features='auto',\n",
    " min_samples_leaf= 2,\n",
    " min_samples_split= 2,\n",
    " n_estimators= 1050)\n",
    "rfc_model.fit(X_train, y_train)\n",
    "\n",
    "\n"
   ]
  },
  {
   "cell_type": "code",
   "execution_count": 64,
   "metadata": {},
   "outputs": [
    {
     "name": "stdout",
     "output_type": "stream",
     "text": [
      "Accuracy RFC = 0.825\n"
     ]
    }
   ],
   "source": [
    "tmp=accuracy_score(y_test['is_good'], rfc_model.predict(X_test))\n",
    "print(\"Accuracy RFC = \" + str(tmp))"
   ]
  },
  {
   "cell_type": "code",
   "execution_count": 65,
   "metadata": {},
   "outputs": [
    {
     "name": "stdout",
     "output_type": "stream",
     "text": [
      "Preparation of a new explainer is initiated\n",
      "\n",
      "  -> data              : 1279 rows 11 cols\n",
      "  -> target variable   : Parameter 'y' was a pandas.DataFrame. Converted to a numpy.ndarray.\n",
      "  -> target variable   : 1279 values\n",
      "  -> model_class       : sklearn.ensemble._forest.RandomForestClassifier (default)\n",
      "  -> label             : Random Forest\n",
      "  -> predict function  : <function yhat_proba_default at 0x00000287063D44C0> will be used (default)\n",
      "  -> predict function  : Accepts pandas.DataFrame and numpy.ndarray.\n",
      "  -> predicted values  : min = 0.0114, mean = 0.537, max = 0.999\n",
      "  -> model type        : classification will be used (default)\n",
      "  -> residual function : difference between y and yhat (default)\n",
      "  -> residuals         : min = -0.599, mean = -0.000248, max = 0.535\n",
      "  -> model_info        : package sklearn\n",
      "\n",
      "A new explainer has been created!\n"
     ]
    },
    {
     "data": {
      "application/vnd.plotly.v1+json": {
       "config": {
        "displaylogo": false,
        "modeBarButtonsToRemove": [
         "sendDataToCloud",
         "lasso2d",
         "autoScale2d",
         "select2d",
         "zoom2d",
         "pan2d",
         "zoomIn2d",
         "zoomOut2d",
         "resetScale2d",
         "toggleSpikelines",
         "hoverCompareCartesian",
         "hoverClosestCartesian"
        ],
        "plotlyServerURL": "https://plot.ly",
        "staticPlot": false,
        "toImageButtonOptions": {
         "height": null,
         "width": null
        }
       },
       "data": [
        {
         "base": 0.00023295418032254211,
         "hoverinfo": "text",
         "hoverlabel": {
          "bgcolor": "rgba(0,0,0,0.8)"
         },
         "hovertext": [
          "Model: Random Forest loss after<br>variable: alcohol is permuted: 0.092<br>Drop-out loss change: +0.092",
          "Model: Random Forest loss after<br>variable: sulphates is permuted: 0.071<br>Drop-out loss change: +0.071",
          "Model: Random Forest loss after<br>variable: volatile acidity is permuted: 0.026<br>Drop-out loss change: +0.026",
          "Model: Random Forest loss after<br>variable: total sulfur dioxide is permuted: 0.012<br>Drop-out loss change: +0.012",
          "Model: Random Forest loss after<br>variable: density is permuted: 0.008<br>Drop-out loss change: +0.008",
          "Model: Random Forest loss after<br>variable: chlorides is permuted: 0.007<br>Drop-out loss change: +0.007",
          "Model: Random Forest loss after<br>variable: citric acid is permuted: 0.005<br>Drop-out loss change: +0.005",
          "Model: Random Forest loss after<br>variable: fixed acidity is permuted: 0.004<br>Drop-out loss change: +0.004",
          "Model: Random Forest loss after<br>variable: pH is permuted: 0.004<br>Drop-out loss change: +0.003",
          "Model: Random Forest loss after<br>variable: free sulfur dioxide is permuted: 0.003<br>Drop-out loss change: +0.003"
         ],
         "marker": {
          "color": "#46bac2"
         },
         "orientation": "h",
         "showlegend": false,
         "text": [
          "+0.092",
          "+0.071",
          "+0.026",
          "+0.012",
          "+0.008",
          "+0.007",
          "+0.005",
          "+0.004",
          "+0.003",
          "+0.003"
         ],
         "textposition": "outside",
         "type": "bar",
         "x": [
          0.09168956043956054,
          0.07100242593663657,
          0.02611978664610254,
          0.01164770901613008,
          0.007904376325428942,
          0.006806680161943346,
          0.004542606516290737,
          0.003924474648158838,
          0.0032782276203328965,
          0.0027291787160207857
         ],
         "xaxis": "x",
         "y": [
          "alcohol",
          "sulphates",
          "volatile acidity",
          "total sulfur dioxide",
          "density",
          "chlorides",
          "citric acid",
          "fixed acidity",
          "pH",
          "free sulfur dioxide"
         ],
         "yaxis": "y"
        }
       ],
       "layout": {
        "annotations": [
         {
          "font": {
           "size": 16
          },
          "showarrow": false,
          "text": "Random Forest",
          "x": 0.5,
          "xanchor": "center",
          "xref": "paper",
          "y": 1,
          "yanchor": "bottom",
          "yref": "paper"
         },
         {
          "font": {
           "size": 16
          },
          "showarrow": false,
          "text": "drop-out loss",
          "x": 0.5,
          "xanchor": "center",
          "xref": "paper",
          "y": 0,
          "yanchor": "top",
          "yref": "paper",
          "yshift": -30
         }
        ],
        "font": {
         "color": "#371ea3"
        },
        "height": 383,
        "margin": {
         "b": 71,
         "r": 30,
         "t": 78
        },
        "shapes": [
         {
          "line": {
           "color": "#371ea3",
           "dash": "dot",
           "width": 1.5
          },
          "type": "line",
          "x0": 0.00023295418032254211,
          "x1": 0.00023295418032254211,
          "xref": "x",
          "y0": -1,
          "y1": 10,
          "yref": "y"
         }
        ],
        "template": {
         "data": {
          "scatter": [
           {
            "type": "scatter"
           }
          ]
         }
        },
        "title": {
         "text": "Variable Importance",
         "x": 0.15
        },
        "xaxis": {
         "anchor": "y",
         "automargin": true,
         "domain": [
          0,
          1
         ],
         "fixedrange": true,
         "gridwidth": 2,
         "range": [
          -0.01352047988561154,
          0.10567594868581717
         ],
         "tickcolor": "white",
         "ticklen": 3,
         "ticks": "outside",
         "type": "linear",
         "zeroline": false
        },
        "yaxis": {
         "anchor": "x",
         "automargin": true,
         "autorange": "reversed",
         "domain": [
          0,
          1
         ],
         "fixedrange": true,
         "gridwidth": 2,
         "tickcolor": "white",
         "ticklen": 10,
         "ticks": "outside",
         "type": "category"
        }
       }
      },
      "text/html": [
       "<div>                            <div id=\"d640b112-5c6c-494f-9417-a3bb131efe13\" class=\"plotly-graph-div\" style=\"height:383.0px; width:100%;\"></div>            <script type=\"text/javascript\">                require([\"plotly\"], function(Plotly) {                    window.PLOTLYENV=window.PLOTLYENV || {};                                    if (document.getElementById(\"d640b112-5c6c-494f-9417-a3bb131efe13\")) {                    Plotly.newPlot(                        \"d640b112-5c6c-494f-9417-a3bb131efe13\",                        [{\"base\": 0.00023295418032254211, \"hoverinfo\": \"text\", \"hoverlabel\": {\"bgcolor\": \"rgba(0,0,0,0.8)\"}, \"hovertext\": [\"Model: Random Forest loss after<br>variable: alcohol is permuted: 0.092<br>Drop-out loss change: +0.092\", \"Model: Random Forest loss after<br>variable: sulphates is permuted: 0.071<br>Drop-out loss change: +0.071\", \"Model: Random Forest loss after<br>variable: volatile acidity is permuted: 0.026<br>Drop-out loss change: +0.026\", \"Model: Random Forest loss after<br>variable: total sulfur dioxide is permuted: 0.012<br>Drop-out loss change: +0.012\", \"Model: Random Forest loss after<br>variable: density is permuted: 0.008<br>Drop-out loss change: +0.008\", \"Model: Random Forest loss after<br>variable: chlorides is permuted: 0.007<br>Drop-out loss change: +0.007\", \"Model: Random Forest loss after<br>variable: citric acid is permuted: 0.005<br>Drop-out loss change: +0.005\", \"Model: Random Forest loss after<br>variable: fixed acidity is permuted: 0.004<br>Drop-out loss change: +0.004\", \"Model: Random Forest loss after<br>variable: pH is permuted: 0.004<br>Drop-out loss change: +0.003\", \"Model: Random Forest loss after<br>variable: free sulfur dioxide is permuted: 0.003<br>Drop-out loss change: +0.003\"], \"marker\": {\"color\": \"#46bac2\"}, \"orientation\": \"h\", \"showlegend\": false, \"text\": [\"+0.092\", \"+0.071\", \"+0.026\", \"+0.012\", \"+0.008\", \"+0.007\", \"+0.005\", \"+0.004\", \"+0.003\", \"+0.003\"], \"textposition\": \"outside\", \"type\": \"bar\", \"x\": [0.09168956043956054, 0.07100242593663657, 0.02611978664610254, 0.01164770901613008, 0.007904376325428942, 0.006806680161943346, 0.004542606516290737, 0.003924474648158838, 0.0032782276203328965, 0.0027291787160207857], \"xaxis\": \"x\", \"y\": [\"alcohol\", \"sulphates\", \"volatile acidity\", \"total sulfur dioxide\", \"density\", \"chlorides\", \"citric acid\", \"fixed acidity\", \"pH\", \"free sulfur dioxide\"], \"yaxis\": \"y\"}],                        {\"annotations\": [{\"font\": {\"size\": 16}, \"showarrow\": false, \"text\": \"Random Forest\", \"x\": 0.5, \"xanchor\": \"center\", \"xref\": \"paper\", \"y\": 1.0, \"yanchor\": \"bottom\", \"yref\": \"paper\"}, {\"font\": {\"size\": 16}, \"showarrow\": false, \"text\": \"drop-out loss\", \"x\": 0.5, \"xanchor\": \"center\", \"xref\": \"paper\", \"y\": 0, \"yanchor\": \"top\", \"yref\": \"paper\", \"yshift\": -30}], \"font\": {\"color\": \"#371ea3\"}, \"height\": 383.0, \"margin\": {\"b\": 71, \"r\": 30, \"t\": 78}, \"shapes\": [{\"line\": {\"color\": \"#371ea3\", \"dash\": \"dot\", \"width\": 1.5}, \"type\": \"line\", \"x0\": 0.00023295418032254211, \"x1\": 0.00023295418032254211, \"xref\": \"x\", \"y0\": -1, \"y1\": 10, \"yref\": \"y\"}], \"template\": {\"data\": {\"scatter\": [{\"type\": \"scatter\"}]}}, \"title\": {\"text\": \"Variable Importance\", \"x\": 0.15}, \"xaxis\": {\"anchor\": \"y\", \"automargin\": true, \"domain\": [0.0, 1.0], \"fixedrange\": true, \"gridwidth\": 2, \"range\": [-0.01352047988561154, 0.10567594868581717], \"tickcolor\": \"white\", \"ticklen\": 3, \"ticks\": \"outside\", \"type\": \"linear\", \"zeroline\": false}, \"yaxis\": {\"anchor\": \"x\", \"automargin\": true, \"autorange\": \"reversed\", \"domain\": [0.0, 1.0], \"fixedrange\": true, \"gridwidth\": 2, \"tickcolor\": \"white\", \"ticklen\": 10, \"ticks\": \"outside\", \"type\": \"category\"}},                        {\"displaylogo\": false, \"staticPlot\": false, \"toImageButtonOptions\": {\"height\": null, \"width\": null}, \"modeBarButtonsToRemove\": [\"sendDataToCloud\", \"lasso2d\", \"autoScale2d\", \"select2d\", \"zoom2d\", \"pan2d\", \"zoomIn2d\", \"zoomOut2d\", \"resetScale2d\", \"toggleSpikelines\", \"hoverCompareCartesian\", \"hoverClosestCartesian\"], \"responsive\": true}                    ).then(function(){\n",
       "                            \n",
       "var gd = document.getElementById('d640b112-5c6c-494f-9417-a3bb131efe13');\n",
       "var x = new MutationObserver(function (mutations, observer) {{\n",
       "        var display = window.getComputedStyle(gd).display;\n",
       "        if (!display || display === 'none') {{\n",
       "            console.log([gd, 'removed!']);\n",
       "            Plotly.purge(gd);\n",
       "            observer.disconnect();\n",
       "        }}\n",
       "}});\n",
       "\n",
       "// Listen for the removal of the full notebook cells\n",
       "var notebookContainer = gd.closest('#notebook-container');\n",
       "if (notebookContainer) {{\n",
       "    x.observe(notebookContainer, {childList: true});\n",
       "}}\n",
       "\n",
       "// Listen for the clearing of the current output cell\n",
       "var outputEl = gd.closest('.output');\n",
       "if (outputEl) {{\n",
       "    x.observe(outputEl, {childList: true});\n",
       "}}\n",
       "\n",
       "                        })                };                });            </script>        </div>"
      ]
     },
     "metadata": {},
     "output_type": "display_data"
    }
   ],
   "source": [
    "explainer_rfc =dx.Explainer(rfc_model, X_train, y_train,label=\"Random Forest\")\n",
    "explainer_rfc.model_parts().plot()"
   ]
  },
  {
   "cell_type": "markdown",
   "metadata": {},
   "source": [
    "## 3"
   ]
  },
  {
   "cell_type": "markdown",
   "metadata": {},
   "source": [
    "### Wnioski: \n",
    "* Wszystkie zmienne mają pozytywny wkład na predykcję modeli - w połączeniu z stosunkowo niewielką liczbą rekordów naszym zbiorze danych oznacza to, że słuszne wydaje się pozostawienie wszystkich kolumn \n",
    "* Jeżeli chodzi o proporcjonalną ważność zmiennych, to **XGBoost** i **Random Forest** są dosyć podobne i odpowiadają mniej więcej korelacjom ze zmienną celu\n",
    "* W **SVM** za to nieoczekiwanie duże znaczenie mają zmienne dotyczące tlenku siarki - 'total ...' i 'free sulfur dioxide'. Myśle że wynika to z faktu, że nie wystandaryzowaliśmy naszych zmiennych, a te dwie kolumny przyjmują stosunkowo duże wielkośći. Sprawdźmy!"
   ]
  },
  {
   "cell_type": "code",
   "execution_count": 66,
   "metadata": {
    "scrolled": true
   },
   "outputs": [
    {
     "name": "stdout",
     "output_type": "stream",
     "text": [
      "Preparation of a new explainer is initiated\n",
      "\n",
      "  -> data              : 1279 rows 11 cols\n",
      "  -> target variable   : Parameter 'y' was a pandas.DataFrame. Converted to a numpy.ndarray.\n",
      "  -> target variable   : 1279 values\n",
      "  -> model_class       : sklearn.svm._classes.SVC (default)\n",
      "  -> label             : SVM\n",
      "  -> predict function  : <function yhat_default at 0x00000287063D4430> will be used (default)\n",
      "  -> predict function  : Accepts pandas.DataFrame and numpy.ndarray.\n",
      "  -> predicted values  : min = 0.0, mean = 0.0414, max = 1.0\n",
      "  -> model type        : classification will be used (default)\n",
      "  -> residual function : difference between y and yhat (default)\n",
      "  -> residuals         : min = -1.0, mean = 0.495, max = 1.0\n",
      "  -> model_info        : package sklearn\n",
      "\n",
      "A new explainer has been created!\n"
     ]
    }
   ],
   "source": [
    "X_stand=(X-X.mean())/X.std()\n",
    "X_train, X_test, y_train, y_test = train_test_split(X_stand, y, test_size = 0.2, random_state = 1613)\n",
    "svm_model2=SVC()\n",
    "svm_model2.fit(X_train, y_train)\n",
    "explainer_svm2 = dx.Explainer(svm_model, X_train, y_train,label=\"SVM\")\n"
   ]
  },
  {
   "cell_type": "code",
   "execution_count": 73,
   "metadata": {},
   "outputs": [
    {
     "data": {
      "application/vnd.plotly.v1+json": {
       "config": {
        "displaylogo": false,
        "modeBarButtonsToRemove": [
         "sendDataToCloud",
         "lasso2d",
         "autoScale2d",
         "select2d",
         "zoom2d",
         "pan2d",
         "zoomIn2d",
         "zoomOut2d",
         "resetScale2d",
         "toggleSpikelines",
         "hoverCompareCartesian",
         "hoverClosestCartesian"
        ],
        "plotlyServerURL": "https://plot.ly",
        "staticPlot": false,
        "toImageButtonOptions": {
         "height": null,
         "width": null
        }
       },
       "data": [
        {
         "base": 0.48553876678876673,
         "hoverinfo": "text",
         "hoverlabel": {
          "bgcolor": "rgba(0,0,0,0.8)"
         },
         "hovertext": [
          "Model: SVM loss after<br>variable: volatile acidity is permuted: 0.495<br>Drop-out loss change: +0.009",
          "Model: SVM loss after<br>variable: fixed acidity is permuted: 0.492<br>Drop-out loss change: +0.007",
          "Model: SVM loss after<br>variable: alcohol is permuted: 0.492<br>Drop-out loss change: +0.006",
          "Model: SVM loss after<br>variable: citric acid is permuted: 0.488<br>Drop-out loss change: +0.002",
          "Model: SVM loss after<br>variable: pH is permuted: 0.487<br>Drop-out loss change: +0.001",
          "Model: SVM loss after<br>variable: residual sugar is permuted: 0.486<br>Drop-out loss change: +0.001",
          "Model: SVM loss after<br>variable: total sulfur dioxide is permuted: 0.486<br>Drop-out loss change: +0.0",
          "Model: SVM loss after<br>variable: density is permuted: 0.486<br>Drop-out loss change: -0.0",
          "Model: SVM loss after<br>variable: free sulfur dioxide is permuted: 0.485<br>Drop-out loss change: -0.001",
          "Model: SVM loss after<br>variable: chlorides is permuted: 0.483<br>Drop-out loss change: -0.003"
         ],
         "marker": {
          "color": "#46bac2"
         },
         "orientation": "h",
         "showlegend": false,
         "text": [
          "+0.009",
          "+0.007",
          "+0.006",
          "+0.002",
          "+0.001",
          "+0.001",
          "+0.0",
          "0.0",
          "0.001",
          "0.003"
         ],
         "textposition": "outside",
         "type": "bar",
         "x": [
          0.009447898592635617,
          0.0068629104813314745,
          0.006013431013431103,
          0.0020885547201337507,
          0.0012410834779255642,
          0.0009294068504595576,
          0.0003249309170361703,
          0,
          -0.0009868421052630083,
          -0.002524339695392286
         ],
         "xaxis": "x",
         "y": [
          "volatile acidity",
          "fixed acidity",
          "alcohol",
          "citric acid",
          "pH",
          "residual sugar",
          "total sulfur dioxide",
          "density",
          "free sulfur dioxide",
          "chlorides"
         ],
         "yaxis": "y"
        }
       ],
       "layout": {
        "annotations": [
         {
          "font": {
           "size": 16
          },
          "showarrow": false,
          "text": "SVM",
          "x": 0.5,
          "xanchor": "center",
          "xref": "paper",
          "y": 1,
          "yanchor": "bottom",
          "yref": "paper"
         },
         {
          "font": {
           "size": 16
          },
          "showarrow": false,
          "text": "drop-out loss",
          "x": 0.5,
          "xanchor": "center",
          "xref": "paper",
          "y": 0,
          "yanchor": "top",
          "yref": "paper",
          "yshift": -30
         }
        ],
        "font": {
         "color": "#371ea3"
        },
        "height": 383,
        "margin": {
         "b": 71,
         "r": 30,
         "t": 78
        },
        "shapes": [
         {
          "line": {
           "color": "#371ea3",
           "dash": "dot",
           "width": 1.5
          },
          "type": "line",
          "x0": 0.48553876678876673,
          "x1": 0.48553876678876673,
          "xref": "x",
          "y0": -1,
          "y1": 10,
          "yref": "y"
         }
        ],
        "template": {
         "data": {
          "scatter": [
           {
            "type": "scatter"
           }
          ]
         }
        },
        "title": {
         "text": "Variable Importance",
         "x": 0.15
        },
        "xaxis": {
         "anchor": "y",
         "automargin": true,
         "domain": [
          0,
          1
         ],
         "fixedrange": true,
         "gridwidth": 2,
         "range": [
          0.48067633024869866,
          0.49685323083349414
         ],
         "tickcolor": "white",
         "ticklen": 3,
         "ticks": "outside",
         "type": "linear",
         "zeroline": false
        },
        "yaxis": {
         "anchor": "x",
         "automargin": true,
         "autorange": "reversed",
         "domain": [
          0,
          1
         ],
         "fixedrange": true,
         "gridwidth": 2,
         "tickcolor": "white",
         "ticklen": 10,
         "ticks": "outside",
         "type": "category"
        }
       }
      },
      "text/html": [
       "<div>                            <div id=\"e69ab92f-fe56-4575-b3e2-25c7fdb47c3f\" class=\"plotly-graph-div\" style=\"height:383.0px; width:100%;\"></div>            <script type=\"text/javascript\">                require([\"plotly\"], function(Plotly) {                    window.PLOTLYENV=window.PLOTLYENV || {};                                    if (document.getElementById(\"e69ab92f-fe56-4575-b3e2-25c7fdb47c3f\")) {                    Plotly.newPlot(                        \"e69ab92f-fe56-4575-b3e2-25c7fdb47c3f\",                        [{\"base\": 0.48553876678876673, \"hoverinfo\": \"text\", \"hoverlabel\": {\"bgcolor\": \"rgba(0,0,0,0.8)\"}, \"hovertext\": [\"Model: SVM loss after<br>variable: volatile acidity is permuted: 0.495<br>Drop-out loss change: +0.009\", \"Model: SVM loss after<br>variable: fixed acidity is permuted: 0.492<br>Drop-out loss change: +0.007\", \"Model: SVM loss after<br>variable: alcohol is permuted: 0.492<br>Drop-out loss change: +0.006\", \"Model: SVM loss after<br>variable: citric acid is permuted: 0.488<br>Drop-out loss change: +0.002\", \"Model: SVM loss after<br>variable: pH is permuted: 0.487<br>Drop-out loss change: +0.001\", \"Model: SVM loss after<br>variable: residual sugar is permuted: 0.486<br>Drop-out loss change: +0.001\", \"Model: SVM loss after<br>variable: total sulfur dioxide is permuted: 0.486<br>Drop-out loss change: +0.0\", \"Model: SVM loss after<br>variable: density is permuted: 0.486<br>Drop-out loss change: -0.0\", \"Model: SVM loss after<br>variable: free sulfur dioxide is permuted: 0.485<br>Drop-out loss change: -0.001\", \"Model: SVM loss after<br>variable: chlorides is permuted: 0.483<br>Drop-out loss change: -0.003\"], \"marker\": {\"color\": \"#46bac2\"}, \"orientation\": \"h\", \"showlegend\": false, \"text\": [\"+0.009\", \"+0.007\", \"+0.006\", \"+0.002\", \"+0.001\", \"+0.001\", \"+0.0\", \"0.0\", \"0.001\", \"0.003\"], \"textposition\": \"outside\", \"type\": \"bar\", \"x\": [0.009447898592635617, 0.0068629104813314745, 0.006013431013431103, 0.0020885547201337507, 0.0012410834779255642, 0.0009294068504595576, 0.0003249309170361703, 0.0, -0.0009868421052630083, -0.002524339695392286], \"xaxis\": \"x\", \"y\": [\"volatile acidity\", \"fixed acidity\", \"alcohol\", \"citric acid\", \"pH\", \"residual sugar\", \"total sulfur dioxide\", \"density\", \"free sulfur dioxide\", \"chlorides\"], \"yaxis\": \"y\"}],                        {\"annotations\": [{\"font\": {\"size\": 16}, \"showarrow\": false, \"text\": \"SVM\", \"x\": 0.5, \"xanchor\": \"center\", \"xref\": \"paper\", \"y\": 1.0, \"yanchor\": \"bottom\", \"yref\": \"paper\"}, {\"font\": {\"size\": 16}, \"showarrow\": false, \"text\": \"drop-out loss\", \"x\": 0.5, \"xanchor\": \"center\", \"xref\": \"paper\", \"y\": 0, \"yanchor\": \"top\", \"yref\": \"paper\", \"yshift\": -30}], \"font\": {\"color\": \"#371ea3\"}, \"height\": 383.0, \"margin\": {\"b\": 71, \"r\": 30, \"t\": 78}, \"shapes\": [{\"line\": {\"color\": \"#371ea3\", \"dash\": \"dot\", \"width\": 1.5}, \"type\": \"line\", \"x0\": 0.48553876678876673, \"x1\": 0.48553876678876673, \"xref\": \"x\", \"y0\": -1, \"y1\": 10, \"yref\": \"y\"}], \"template\": {\"data\": {\"scatter\": [{\"type\": \"scatter\"}]}}, \"title\": {\"text\": \"Variable Importance\", \"x\": 0.15}, \"xaxis\": {\"anchor\": \"y\", \"automargin\": true, \"domain\": [0.0, 1.0], \"fixedrange\": true, \"gridwidth\": 2, \"range\": [0.48067633024869866, 0.49685323083349414], \"tickcolor\": \"white\", \"ticklen\": 3, \"ticks\": \"outside\", \"type\": \"linear\", \"zeroline\": false}, \"yaxis\": {\"anchor\": \"x\", \"automargin\": true, \"autorange\": \"reversed\", \"domain\": [0.0, 1.0], \"fixedrange\": true, \"gridwidth\": 2, \"tickcolor\": \"white\", \"ticklen\": 10, \"ticks\": \"outside\", \"type\": \"category\"}},                        {\"displaylogo\": false, \"staticPlot\": false, \"toImageButtonOptions\": {\"height\": null, \"width\": null}, \"modeBarButtonsToRemove\": [\"sendDataToCloud\", \"lasso2d\", \"autoScale2d\", \"select2d\", \"zoom2d\", \"pan2d\", \"zoomIn2d\", \"zoomOut2d\", \"resetScale2d\", \"toggleSpikelines\", \"hoverCompareCartesian\", \"hoverClosestCartesian\"], \"responsive\": true}                    ).then(function(){\n",
       "                            \n",
       "var gd = document.getElementById('e69ab92f-fe56-4575-b3e2-25c7fdb47c3f');\n",
       "var x = new MutationObserver(function (mutations, observer) {{\n",
       "        var display = window.getComputedStyle(gd).display;\n",
       "        if (!display || display === 'none') {{\n",
       "            console.log([gd, 'removed!']);\n",
       "            Plotly.purge(gd);\n",
       "            observer.disconnect();\n",
       "        }}\n",
       "}});\n",
       "\n",
       "// Listen for the removal of the full notebook cells\n",
       "var notebookContainer = gd.closest('#notebook-container');\n",
       "if (notebookContainer) {{\n",
       "    x.observe(notebookContainer, {childList: true});\n",
       "}}\n",
       "\n",
       "// Listen for the clearing of the current output cell\n",
       "var outputEl = gd.closest('.output');\n",
       "if (outputEl) {{\n",
       "    x.observe(outputEl, {childList: true});\n",
       "}}\n",
       "\n",
       "                        })                };                });            </script>        </div>"
      ]
     },
     "metadata": {},
     "output_type": "display_data"
    }
   ],
   "source": [
    "explainer_svm2.model_parts().plot()"
   ]
  },
  {
   "cell_type": "markdown",
   "metadata": {},
   "source": [
    "Po wystandaryzowaniu zmiennych, nasz wykres wygląda kompletnie inaczej. Najważniejszą rolę odgrywają teraz zmienne dotyczące kwasowości. Co ciekawe, pojawiły się także zmienne nie wnoszące nic do predykcji, co jest nowością. Jednak wynik **SVM** jest znaczenie gorszy od **XGBoosta** i **Random Forest**, więc nie będziemy się tym bardzo sugerować.  "
   ]
  }
 ],
 "metadata": {
  "kernelspec": {
   "display_name": "Python 3",
   "language": "python",
   "name": "python3"
  },
  "language_info": {
   "codemirror_mode": {
    "name": "ipython",
    "version": 3
   },
   "file_extension": ".py",
   "mimetype": "text/x-python",
   "name": "python",
   "nbconvert_exporter": "python",
   "pygments_lexer": "ipython3",
   "version": "3.8.5"
  }
 },
 "nbformat": 4,
 "nbformat_minor": 4
}
