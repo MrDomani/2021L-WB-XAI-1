{
 "cells": [
  {
   "cell_type": "markdown",
   "metadata": {},
   "source": [
    "# Partial Dependence Profiles/Plots (PDP)"
   ]
  },
  {
   "cell_type": "markdown",
   "metadata": {},
   "source": [
    "##### Wykresy częściowej zależności (profile PD)\n",
    "Zostały one wprowadzone przez Friedmana w 2000 roku. Przez wiele lat profile PD pozostawały niezauważone, jednak w ostatnich latach stały się one bardzo popularne"
   ]
  },
  {
   "cell_type": "markdown",
   "metadata": {},
   "source": [
    "Profile PD są przydatne do porównań różnych modeli:\n",
    "     - zgodność\n",
    "     - rozbieżność\n",
    "     - wydajność\n"
   ]
  },
  {
   "cell_type": "code",
   "execution_count": null,
   "metadata": {},
   "outputs": [],
   "source": [
    "import dalex as dx\n",
    "import pandas as pd\n",
    "import numpy as np\n",
    "import pickle"
   ]
  },
  {
   "cell_type": "code",
   "execution_count": null,
   "metadata": {},
   "outputs": [],
   "source": [
    "train = pd.read_csv(\"train.csv\")\n",
    "train"
   ]
  },
  {
   "cell_type": "code",
   "execution_count": null,
   "metadata": {},
   "outputs": [],
   "source": [
    "variables = [\"bedrooms\", \"bathrooms\", \"floors\", \"waterfront\", \"view\", \"condition\", \"grade\", \"lat\", \"long\", \"age\", \"m2_living\", \"m2_lot\", \"m2_basement\"]"
   ]
  },
  {
   "cell_type": "code",
   "execution_count": null,
   "metadata": {},
   "outputs": [],
   "source": [
    "X_train = train[variables]\n",
    "y_train = train.price_log"
   ]
  },
  {
   "cell_type": "code",
   "execution_count": null,
   "metadata": {},
   "outputs": [],
   "source": [
    "reg_rr = pickle.load(open(\"reg_rr\", 'rb'))"
   ]
  },
  {
   "cell_type": "code",
   "execution_count": null,
   "metadata": {},
   "outputs": [],
   "source": [
    "def predict_function(model, data):\n",
    "    return np.exp(model.predict(data))"
   ]
  },
  {
   "cell_type": "code",
   "execution_count": null,
   "metadata": {},
   "outputs": [],
   "source": [
    "explainer = dx.Explainer(reg_rr, X_train, y_train, predict_function = predict_function, label = \"Random Forest\")"
   ]
  },
  {
   "cell_type": "code",
   "execution_count": null,
   "metadata": {},
   "outputs": [],
   "source": [
    "cp10 = explainer.predict_profile(X_train.iloc[0:10,:])"
   ]
  },
  {
   "cell_type": "code",
   "execution_count": null,
   "metadata": {
    "scrolled": false
   },
   "outputs": [],
   "source": [
    "cp10.plot()"
   ]
  },
  {
   "cell_type": "code",
   "execution_count": null,
   "metadata": {},
   "outputs": [],
   "source": [
    "pdp = explainer.model_profile()"
   ]
  },
  {
   "cell_type": "code",
   "execution_count": null,
   "metadata": {
    "scrolled": false
   },
   "outputs": [],
   "source": [
    "pdp.plot(geom=\"profiles\")"
   ]
  },
  {
   "cell_type": "markdown",
   "metadata": {},
   "source": [
    "mp_rf = titanic_rf_exp.model_profile( variable_type = 'categorical')\n",
    "mp_rf.plot(variables = ['gender', 'class'])"
   ]
  },
  {
   "cell_type": "markdown",
   "metadata": {},
   "source": [
    "![](fig/1.png)"
   ]
  },
  {
   "cell_type": "markdown",
   "metadata": {},
   "source": [
    "mp_rf = titanic_rf_exp.model_profile(groups = 'class', \n",
    "                                  variables = ['age', 'fare'])\n",
    "mp_rf.plot()"
   ]
  },
  {
   "cell_type": "markdown",
   "metadata": {},
   "source": [
    "![](fig/2.png)"
   ]
  },
  {
   "cell_type": "code",
   "execution_count": null,
   "metadata": {},
   "outputs": [],
   "source": [
    "reg_dd = pickle.load(open(\"reg_dd\", 'rb'))\n",
    "reg_gb = pickle.load(open(\"reg_gb\", 'rb'))\n",
    "reg_lin = pickle.load(open(\"reg_lin\", 'rb'))"
   ]
  },
  {
   "cell_type": "code",
   "execution_count": null,
   "metadata": {},
   "outputs": [],
   "source": [
    "explainer_dd= dx.Explainer(reg_dd, X_train, y_train, predict_function = predict_function, verbose = 0)\n",
    "explainer_gb = dx.Explainer(reg_gb, X_train, y_train, predict_function = predict_function, verbose = 0)\n",
    "explainer_lin = dx.Explainer(reg_lin, X_train, y_train, predict_function = predict_function, verbose = 0)"
   ]
  },
  {
   "cell_type": "code",
   "execution_count": null,
   "metadata": {},
   "outputs": [],
   "source": [
    "pdp_dd = explainer_dd.model_profile()\n",
    "pdp_gb = explainer_gb.model_profile()\n",
    "pdp_lin = explainer_lin.model_profile()"
   ]
  },
  {
   "cell_type": "code",
   "execution_count": null,
   "metadata": {
    "scrolled": false
   },
   "outputs": [],
   "source": [
    "pdp.plot([pdp_dd, pdp_gb, pdp_lin])"
   ]
  },
  {
   "cell_type": "markdown",
   "metadata": {},
   "source": [
    "### Plusy \n",
    "- prosty sposób na podsumowanie wpływu danej zmiennej objaśniającej\n",
    "- są one łatwe do wyjaśnienia i intuicyjne\n",
    "- mogą być uzyskiwane dla podgrup obserwacji i porównywane w różnych modelach\n",
    "\n",
    "\n",
    "### Minusy\n",
    "\n",
    "- profile PD są problematyczne w przypadku skorelowanych zmiennych objaśniających, nie są odpowiednie dla tego przypadku, ponieważ mogą oferować zgrubne i potencjalnie mylące podsumowanie\n"
   ]
  },
  {
   "cell_type": "markdown",
   "metadata": {},
   "source": [
    "## ALE są rozwiązania tego problemu "
   ]
  },
  {
   "cell_type": "markdown",
   "metadata": {},
   "source": [
    "w model_profile: type : {'partial', 'accumulated', 'conditional'}"
   ]
  },
  {
   "cell_type": "code",
   "execution_count": null,
   "metadata": {},
   "outputs": [],
   "source": [
    "ale = explainer.model_profile(type = 'accumulated')"
   ]
  },
  {
   "cell_type": "code",
   "execution_count": null,
   "metadata": {},
   "outputs": [],
   "source": [
    "pdp = explainer.model_profile(type = 'partial')"
   ]
  },
  {
   "cell_type": "code",
   "execution_count": null,
   "metadata": {},
   "outputs": [],
   "source": [
    "ale"
   ]
  },
  {
   "cell_type": "code",
   "execution_count": null,
   "metadata": {},
   "outputs": [],
   "source": [
    "ale.result['_label_'] = \"ALE\"\n",
    "pdp.result['_label_'] = \"PDP\""
   ]
  },
  {
   "cell_type": "code",
   "execution_count": null,
   "metadata": {
    "scrolled": false
   },
   "outputs": [],
   "source": [
    "ale.plot(pdp)"
   ]
  },
  {
   "cell_type": "code",
   "execution_count": null,
   "metadata": {},
   "outputs": [],
   "source": []
  }
 ],
 "metadata": {
  "kernelspec": {
   "display_name": "Python 3",
   "language": "python",
   "name": "python3"
  },
  "language_info": {
   "codemirror_mode": {
    "name": "ipython",
    "version": 3
   },
   "file_extension": ".py",
   "mimetype": "text/x-python",
   "name": "python",
   "nbconvert_exporter": "python",
   "pygments_lexer": "ipython3",
   "version": "3.7.6"
  }
 },
 "nbformat": 4,
 "nbformat_minor": 4
}
